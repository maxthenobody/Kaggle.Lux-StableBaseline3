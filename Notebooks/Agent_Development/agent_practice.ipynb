{
 "cells": [
  {
   "cell_type": "code",
   "execution_count": 1,
   "id": "35921214-9e6e-4a26-87f1-22db907a94b1",
   "metadata": {},
   "outputs": [
    {
     "name": "stdout",
     "output_type": "stream",
     "text": [
      "Python 3.12.8\n"
     ]
    }
   ],
   "source": [
    "# verify version\n",
    "!python --version"
   ]
  },
  {
   "cell_type": "code",
   "execution_count": 2,
   "id": "2bd07391-bfe8-492c-ab2d-929a0b580473",
   "metadata": {
    "scrolled": true
   },
   "outputs": [
    {
     "name": "stdout",
     "output_type": "stream",
     "text": [
      "Requirement already satisfied: luxai-s3 in /home/max1024/venvs/lux/lib/python3.12/site-packages (0.2.1)\n",
      "Requirement already satisfied: jax in /home/max1024/venvs/lux/lib/python3.12/site-packages (from luxai-s3) (0.5.0)\n",
      "Requirement already satisfied: gymnax==0.0.8 in /home/max1024/venvs/lux/lib/python3.12/site-packages (from luxai-s3) (0.0.8)\n",
      "Requirement already satisfied: tyro in /home/max1024/venvs/lux/lib/python3.12/site-packages (from luxai-s3) (0.9.13)\n",
      "Requirement already satisfied: jaxlib in /home/max1024/venvs/lux/lib/python3.12/site-packages (from gymnax==0.0.8->luxai-s3) (0.5.0)\n",
      "Requirement already satisfied: chex in /home/max1024/venvs/lux/lib/python3.12/site-packages (from gymnax==0.0.8->luxai-s3) (0.1.88)\n",
      "Requirement already satisfied: flax in /home/max1024/venvs/lux/lib/python3.12/site-packages (from gymnax==0.0.8->luxai-s3) (0.10.2)\n",
      "Requirement already satisfied: pyyaml in /home/max1024/venvs/lux/lib/python3.12/site-packages (from gymnax==0.0.8->luxai-s3) (6.0.2)\n",
      "Requirement already satisfied: gym>=0.26 in /home/max1024/venvs/lux/lib/python3.12/site-packages (from gymnax==0.0.8->luxai-s3) (0.26.2)\n",
      "Requirement already satisfied: gymnasium in /home/max1024/venvs/lux/lib/python3.12/site-packages (from gymnax==0.0.8->luxai-s3) (1.0.0)\n",
      "Requirement already satisfied: matplotlib in /home/max1024/venvs/lux/lib/python3.12/site-packages (from gymnax==0.0.8->luxai-s3) (3.10.0)\n",
      "Requirement already satisfied: seaborn in /home/max1024/venvs/lux/lib/python3.12/site-packages (from gymnax==0.0.8->luxai-s3) (0.13.2)\n",
      "Requirement already satisfied: ml_dtypes>=0.4.0 in /home/max1024/venvs/lux/lib/python3.12/site-packages (from jax->luxai-s3) (0.5.1)\n",
      "Requirement already satisfied: numpy>=1.25 in /home/max1024/venvs/lux/lib/python3.12/site-packages (from jax->luxai-s3) (2.2.2)\n",
      "Requirement already satisfied: opt_einsum in /home/max1024/venvs/lux/lib/python3.12/site-packages (from jax->luxai-s3) (3.4.0)\n",
      "Requirement already satisfied: scipy>=1.11.1 in /home/max1024/venvs/lux/lib/python3.12/site-packages (from jax->luxai-s3) (1.15.1)\n",
      "Requirement already satisfied: docstring-parser>=0.15 in /home/max1024/venvs/lux/lib/python3.12/site-packages (from tyro->luxai-s3) (0.16)\n",
      "Requirement already satisfied: rich>=11.1.0 in /home/max1024/venvs/lux/lib/python3.12/site-packages (from tyro->luxai-s3) (13.9.4)\n",
      "Requirement already satisfied: shtab>=1.5.6 in /home/max1024/venvs/lux/lib/python3.12/site-packages (from tyro->luxai-s3) (1.7.1)\n",
      "Requirement already satisfied: typeguard>=4.0.0 in /home/max1024/venvs/lux/lib/python3.12/site-packages (from tyro->luxai-s3) (4.4.1)\n",
      "Requirement already satisfied: typing-extensions>=4.9.0 in /home/max1024/venvs/lux/lib/python3.12/site-packages (from tyro->luxai-s3) (4.12.2)\n",
      "Requirement already satisfied: cloudpickle>=1.2.0 in /home/max1024/venvs/lux/lib/python3.12/site-packages (from gym>=0.26->gymnax==0.0.8->luxai-s3) (3.1.1)\n",
      "Requirement already satisfied: gym_notices>=0.0.4 in /home/max1024/venvs/lux/lib/python3.12/site-packages (from gym>=0.26->gymnax==0.0.8->luxai-s3) (0.0.8)\n",
      "Requirement already satisfied: markdown-it-py>=2.2.0 in /home/max1024/venvs/lux/lib/python3.12/site-packages (from rich>=11.1.0->tyro->luxai-s3) (3.0.0)\n",
      "Requirement already satisfied: pygments<3.0.0,>=2.13.0 in /home/max1024/venvs/lux/lib/python3.12/site-packages (from rich>=11.1.0->tyro->luxai-s3) (2.19.1)\n",
      "Requirement already satisfied: absl-py>=0.9.0 in /home/max1024/venvs/lux/lib/python3.12/site-packages (from chex->gymnax==0.0.8->luxai-s3) (2.1.0)\n",
      "Requirement already satisfied: setuptools in /home/max1024/venvs/lux/lib/python3.12/site-packages (from chex->gymnax==0.0.8->luxai-s3) (75.8.0)\n",
      "Requirement already satisfied: toolz>=0.9.0 in /home/max1024/venvs/lux/lib/python3.12/site-packages (from chex->gymnax==0.0.8->luxai-s3) (1.0.0)\n",
      "Requirement already satisfied: msgpack in /home/max1024/venvs/lux/lib/python3.12/site-packages (from flax->gymnax==0.0.8->luxai-s3) (1.1.0)\n",
      "Requirement already satisfied: optax in /home/max1024/venvs/lux/lib/python3.12/site-packages (from flax->gymnax==0.0.8->luxai-s3) (0.2.4)\n",
      "Requirement already satisfied: orbax-checkpoint in /home/max1024/venvs/lux/lib/python3.12/site-packages (from flax->gymnax==0.0.8->luxai-s3) (0.11.4)\n",
      "Requirement already satisfied: tensorstore in /home/max1024/venvs/lux/lib/python3.12/site-packages (from flax->gymnax==0.0.8->luxai-s3) (0.1.71)\n",
      "Requirement already satisfied: farama-notifications>=0.0.1 in /home/max1024/venvs/lux/lib/python3.12/site-packages (from gymnasium->gymnax==0.0.8->luxai-s3) (0.0.4)\n",
      "Requirement already satisfied: contourpy>=1.0.1 in /home/max1024/venvs/lux/lib/python3.12/site-packages (from matplotlib->gymnax==0.0.8->luxai-s3) (1.3.1)\n",
      "Requirement already satisfied: cycler>=0.10 in /home/max1024/venvs/lux/lib/python3.12/site-packages (from matplotlib->gymnax==0.0.8->luxai-s3) (0.12.1)\n",
      "Requirement already satisfied: fonttools>=4.22.0 in /home/max1024/venvs/lux/lib/python3.12/site-packages (from matplotlib->gymnax==0.0.8->luxai-s3) (4.56.0)\n",
      "Requirement already satisfied: kiwisolver>=1.3.1 in /home/max1024/venvs/lux/lib/python3.12/site-packages (from matplotlib->gymnax==0.0.8->luxai-s3) (1.4.8)\n",
      "Requirement already satisfied: packaging>=20.0 in /home/max1024/venvs/lux/lib/python3.12/site-packages (from matplotlib->gymnax==0.0.8->luxai-s3) (24.2)\n",
      "Requirement already satisfied: pillow>=8 in /home/max1024/venvs/lux/lib/python3.12/site-packages (from matplotlib->gymnax==0.0.8->luxai-s3) (11.1.0)\n",
      "Requirement already satisfied: pyparsing>=2.3.1 in /home/max1024/venvs/lux/lib/python3.12/site-packages (from matplotlib->gymnax==0.0.8->luxai-s3) (3.2.1)\n",
      "Requirement already satisfied: python-dateutil>=2.7 in /home/max1024/venvs/lux/lib/python3.12/site-packages (from matplotlib->gymnax==0.0.8->luxai-s3) (2.9.0.post0)\n",
      "Requirement already satisfied: pandas>=1.2 in /home/max1024/venvs/lux/lib/python3.12/site-packages (from seaborn->gymnax==0.0.8->luxai-s3) (2.2.3)\n",
      "Requirement already satisfied: mdurl~=0.1 in /home/max1024/venvs/lux/lib/python3.12/site-packages (from markdown-it-py>=2.2.0->rich>=11.1.0->tyro->luxai-s3) (0.1.2)\n",
      "Requirement already satisfied: pytz>=2020.1 in /home/max1024/venvs/lux/lib/python3.12/site-packages (from pandas>=1.2->seaborn->gymnax==0.0.8->luxai-s3) (2025.1)\n",
      "Requirement already satisfied: tzdata>=2022.7 in /home/max1024/venvs/lux/lib/python3.12/site-packages (from pandas>=1.2->seaborn->gymnax==0.0.8->luxai-s3) (2025.1)\n",
      "Requirement already satisfied: six>=1.5 in /home/max1024/venvs/lux/lib/python3.12/site-packages (from python-dateutil>=2.7->matplotlib->gymnax==0.0.8->luxai-s3) (1.17.0)\n",
      "Requirement already satisfied: etils[epy] in /home/max1024/venvs/lux/lib/python3.12/site-packages (from optax->flax->gymnax==0.0.8->luxai-s3) (1.11.0)\n",
      "Requirement already satisfied: nest_asyncio in /home/max1024/venvs/lux/lib/python3.12/site-packages (from orbax-checkpoint->flax->gymnax==0.0.8->luxai-s3) (1.6.0)\n",
      "Requirement already satisfied: protobuf in /home/max1024/venvs/lux/lib/python3.12/site-packages (from orbax-checkpoint->flax->gymnax==0.0.8->luxai-s3) (5.29.3)\n",
      "Requirement already satisfied: humanize in /home/max1024/venvs/lux/lib/python3.12/site-packages (from orbax-checkpoint->flax->gymnax==0.0.8->luxai-s3) (4.11.0)\n",
      "Requirement already satisfied: simplejson>=3.16.0 in /home/max1024/venvs/lux/lib/python3.12/site-packages (from orbax-checkpoint->flax->gymnax==0.0.8->luxai-s3) (3.19.3)\n",
      "Requirement already satisfied: fsspec in /home/max1024/venvs/lux/lib/python3.12/site-packages (from etils[epath,epy]->orbax-checkpoint->flax->gymnax==0.0.8->luxai-s3) (2025.2.0)\n",
      "Requirement already satisfied: importlib_resources in /home/max1024/venvs/lux/lib/python3.12/site-packages (from etils[epath,epy]->orbax-checkpoint->flax->gymnax==0.0.8->luxai-s3) (6.5.2)\n",
      "Requirement already satisfied: zipp in /home/max1024/venvs/lux/lib/python3.12/site-packages (from etils[epath,epy]->orbax-checkpoint->flax->gymnax==0.0.8->luxai-s3) (3.21.0)\n"
     ]
    }
   ],
   "source": [
    "!pip install --upgrade luxai-s3"
   ]
  },
  {
   "cell_type": "code",
   "execution_count": 3,
   "id": "41b6ec47-43a9-4af9-8a3a-2c836ad74e6a",
   "metadata": {},
   "outputs": [],
   "source": [
    "import os\n",
    "import sys\n",
    "import numpy as np\n",
    "import random"
   ]
  },
  {
   "cell_type": "code",
   "execution_count": 4,
   "id": "6b8265fc-2d91-43e9-8a33-6f60a13cc31d",
   "metadata": {},
   "outputs": [
    {
     "data": {
      "text/plain": [
       "['main.py', 'agent.py', 'lux', 'README.md']"
      ]
     },
     "execution_count": 4,
     "metadata": {},
     "output_type": "execute_result"
    }
   ],
   "source": [
    "os.listdir(\"../../Data/lux-ai-season-3/\")"
   ]
  },
  {
   "cell_type": "code",
   "execution_count": 5,
   "id": "dd61a5e5-f2bb-4ce8-b53f-515373aea175",
   "metadata": {},
   "outputs": [
    {
     "name": "stdout",
     "output_type": "stream",
     "text": [
      "mkdir: cannot create directory ‘Test’: File exists\n"
     ]
    }
   ],
   "source": [
    "!mkdir Test"
   ]
  },
  {
   "cell_type": "code",
   "execution_count": 6,
   "id": "f88669fd-ea25-4951-9f23-e3ccd0e0e612",
   "metadata": {},
   "outputs": [],
   "source": [
    "!cp -r ../../Data/lux-ai-season-3/* Test/"
   ]
  },
  {
   "cell_type": "markdown",
   "id": "e0ffaeec-3a8c-40a9-b6ce-a88d5b772cf3",
   "metadata": {},
   "source": [
    "# My Agent"
   ]
  },
  {
   "cell_type": "code",
   "execution_count": 7,
   "id": "2d59a377-2749-46a3-b032-84e46edd9a2b",
   "metadata": {},
   "outputs": [
    {
     "data": {
      "text/plain": [
       "array([1, 2, 3, 2])"
      ]
     },
     "execution_count": 7,
     "metadata": {},
     "output_type": "execute_result"
    }
   ],
   "source": [
    "prac_array = np.array([1, 2, 3, 2])\n",
    "prac_array"
   ]
  },
  {
   "cell_type": "code",
   "execution_count": 8,
   "id": "fc6a0888-c717-4b6e-8457-7884270bd3a7",
   "metadata": {},
   "outputs": [
    {
     "data": {
      "text/plain": [
       "array([ True,  True, False,  True])"
      ]
     },
     "execution_count": 8,
     "metadata": {},
     "output_type": "execute_result"
    }
   ],
   "source": [
    "prac_condition = prac_array <= 2\n",
    "prac_condition"
   ]
  },
  {
   "cell_type": "code",
   "execution_count": 9,
   "id": "4a91102a-178e-4059-a3b4-c36440c883f4",
   "metadata": {},
   "outputs": [
    {
     "data": {
      "text/plain": [
       "array([1, 2, 2])"
      ]
     },
     "execution_count": 9,
     "metadata": {},
     "output_type": "execute_result"
    }
   ],
   "source": [
    "prac_result = prac_array[prac_condition]\n",
    "prac_result"
   ]
  },
  {
   "cell_type": "code",
   "execution_count": 10,
   "id": "5a6d146b-b122-4439-b51e-93833f470940",
   "metadata": {},
   "outputs": [
    {
     "data": {
      "text/plain": [
       "array([[1, 2],\n",
       "       [3, 4],\n",
       "       [5, 6]])"
      ]
     },
     "execution_count": 10,
     "metadata": {},
     "output_type": "execute_result"
    }
   ],
   "source": [
    "prac_array = np.array([[1, 2], [3, 4], [5, 6]])\n",
    "prac_array"
   ]
  },
  {
   "cell_type": "code",
   "execution_count": 11,
   "id": "99f9c287-24eb-48d6-9f78-66e61c5262a5",
   "metadata": {},
   "outputs": [
    {
     "data": {
      "text/plain": [
       "True"
      ]
     },
     "execution_count": 11,
     "metadata": {},
     "output_type": "execute_result"
    }
   ],
   "source": [
    "5 in prac_array"
   ]
  },
  {
   "cell_type": "code",
   "execution_count": 12,
   "id": "9d644cb2-07da-4896-a047-1aae2ef3af29",
   "metadata": {},
   "outputs": [
    {
     "data": {
      "text/plain": [
       "False"
      ]
     },
     "execution_count": 12,
     "metadata": {},
     "output_type": "execute_result"
    }
   ],
   "source": [
    "7 in prac_array"
   ]
  },
  {
   "cell_type": "code",
   "execution_count": 13,
   "id": "cedd241a-6324-4ee0-b4c9-c433f8e8f3a5",
   "metadata": {},
   "outputs": [],
   "source": [
    "empty_list = []"
   ]
  },
  {
   "cell_type": "code",
   "execution_count": 14,
   "id": "df86c3af-0251-4f29-9841-9d3e65360dcc",
   "metadata": {},
   "outputs": [
    {
     "data": {
      "text/plain": [
       "[]"
      ]
     },
     "execution_count": 14,
     "metadata": {},
     "output_type": "execute_result"
    }
   ],
   "source": [
    "empty_list"
   ]
  },
  {
   "cell_type": "code",
   "execution_count": 17,
   "id": "2af22e8f-0da8-43c4-9604-8c1f457c3d69",
   "metadata": {},
   "outputs": [
    {
     "data": {
      "text/plain": [
       "(4, 4, 4)"
      ]
     },
     "execution_count": 17,
     "metadata": {},
     "output_type": "execute_result"
    }
   ],
   "source": [
    "np.zeros((4, 4, 4)).shape"
   ]
  },
  {
   "cell_type": "code",
   "execution_count": 18,
   "id": "c6f8b9dc-288a-4eee-81c9-9021fff7065f",
   "metadata": {},
   "outputs": [
    {
     "data": {
      "text/plain": [
       "0.23482025786568617"
      ]
     },
     "execution_count": 18,
     "metadata": {},
     "output_type": "execute_result"
    }
   ],
   "source": [
    "random.uniform(0, 1)"
   ]
  },
  {
   "cell_type": "code",
   "execution_count": 19,
   "id": "23681c93-be44-41ce-8a28-164093f1898f",
   "metadata": {},
   "outputs": [
    {
     "data": {
      "text/plain": [
       "(4, 4, 4)"
      ]
     },
     "execution_count": 19,
     "metadata": {},
     "output_type": "execute_result"
    }
   ],
   "source": [
    "Q_table = np.zeros((4, 4, 4))\n",
    "Q_table.shape"
   ]
  },
  {
   "cell_type": "code",
   "execution_count": 20,
   "id": "ddfac129-d2cf-41fb-946e-90b29a40b72b",
   "metadata": {},
   "outputs": [
    {
     "data": {
      "text/plain": [
       "np.int64(0)"
      ]
     },
     "execution_count": 20,
     "metadata": {},
     "output_type": "execute_result"
    }
   ],
   "source": [
    "np.argmax(Q_table)"
   ]
  },
  {
   "cell_type": "code",
   "execution_count": 22,
   "id": "47a7bdc9-7b46-468b-b73a-4eae9b4d5cc2",
   "metadata": {},
   "outputs": [
    {
     "data": {
      "image/png": "[encoded data removed]",
      "text/plain": [
       "<Figure size 600x600 with 2 Axes>"
      ]
     },
     "metadata": {},
     "output_type": "display_data"
    }
   ],
   "source": [
    "import numpy as np\n",
    "import random\n",
    "import matplotlib.pyplot as plt\n",
    "import seaborn as sns\n",
    "\n",
    "# Define the environment (4x4 Grid)\n",
    "GRID_SIZE = 4\n",
    "ACTIONS = [\"UP\", \"DOWN\", \"LEFT\", \"RIGHT\"]\n",
    "ACTION_MAP = {0: (-1, 0), 1: (1, 0), 2: (0, -1), 3: (0, 1)}\n",
    "\n",
    "# Q-learning parameters\n",
    "alpha = 0.1  # Learning rate\n",
    "gamma = 0.9  # Discount factor\n",
    "epsilon = 0.2  # Exploration probability\n",
    "num_episodes = 5000  # Training episodes\n",
    "\n",
    "# Initialize Q-table (4x4 grid, 4 possible actions)\n",
    "Q_table = np.zeros((GRID_SIZE, GRID_SIZE, len(ACTIONS)))\n",
    "Q_table[GRID_SIZE - 1, GRID_SIZE - 1, :] = 100  # Set all actions at (3,3) to 100\n",
    "\n",
    "# Define reward function\n",
    "def get_reward(state):\n",
    "    return 100 if state == (GRID_SIZE - 1, GRID_SIZE - 1) else -1  # Goal = 100, Else = -1\n",
    "\n",
    "# Function to choose action (ε-greedy)\n",
    "def choose_action(state):\n",
    "    if random.uniform(0, 1) < epsilon:  # Explore\n",
    "        return random.choice(range(len(ACTIONS)))\n",
    "    else:  # Exploit (choose best action)\n",
    "        return np.argmax(Q_table[state[0], state[1]])\n",
    "\n",
    "# Training loop\n",
    "for episode in range(num_episodes):\n",
    "    state = (0, 0)  # Start position\n",
    "    while state != (GRID_SIZE - 1, GRID_SIZE - 1):\n",
    "        action = choose_action(state)\n",
    "        move = ACTION_MAP[action]\n",
    "        next_state = (max(0, min(GRID_SIZE - 1, state[0] + move[0])),\n",
    "                      max(0, min(GRID_SIZE - 1, state[1] + move[1])))\n",
    "\n",
    "        reward = get_reward(next_state)\n",
    "\n",
    "        # If next state is goal, set its Q-value directly\n",
    "        if next_state == (GRID_SIZE - 1, GRID_SIZE - 1):\n",
    "            Q_table[state[0], state[1], action] = reward  # Directly assign goal reward\n",
    "        else:\n",
    "            # Standard Q-learning update rule\n",
    "            Q_table[state[0], state[1], action] += alpha * (\n",
    "                reward + gamma * np.max(Q_table[next_state[0], next_state[1]]) - Q_table[state[0], state[1], action]\n",
    "            )\n",
    "\n",
    "        state = next_state  # Move to next state\n",
    "\n",
    "\n",
    "# Extract the maximum Q-values for each state\n",
    "best_q_values = np.max(Q_table, axis=2)\n",
    "\n",
    "# Visualize the Q-table as a heatmap\n",
    "plt.figure(figsize=(6, 6))\n",
    "sns.heatmap(best_q_values, annot=True, fmt=\".1f\", cmap=\"coolwarm\", square=True, cbar=True)\n",
    "\n",
    "plt.title(\"Learned Q-values (Max Over Actions)\")\n",
    "plt.xlabel(\"Column Index\")\n",
    "plt.ylabel(\"Row Index\")\n",
    "plt.show()"
   ]
  },
  {
   "cell_type": "code",
   "execution_count": 24,
   "id": "6a5fd6df-c0dc-452b-998e-770284f921d0",
   "metadata": {},
   "outputs": [
    {
     "data": {
      "text/plain": [
       "array([[0.44168948, 0.10980563, 0.74846856, 0.66582517, 0.72341394,\n",
       "        0.76292476, 0.39658154, 0.03468326, 0.15061202, 0.00501942,\n",
       "        0.94353908, 0.36526987, 0.24097076, 0.84270105, 0.45144259,\n",
       "        0.83581298, 0.45088305, 0.18594139, 0.14616621, 0.98524628,\n",
       "        0.43080665, 0.77949535, 0.41563643, 0.80468611],\n",
       "       [0.29414088, 0.0074837 , 0.28803499, 0.2293772 , 0.40984191,\n",
       "        0.9551709 , 0.52343038, 0.29580537, 0.87007377, 0.97866764,\n",
       "        0.48119279, 0.82559817, 0.96471303, 0.86195958, 0.4377032 ,\n",
       "        0.44058322, 0.43618131, 0.13124468, 0.36070838, 0.58313258,\n",
       "        0.05108645, 0.23302153, 0.05040599, 0.21053293],\n",
       "       [0.08331891, 0.42731943, 0.04211094, 0.04540576, 0.18002732,\n",
       "        0.78325169, 0.10054319, 0.22951868, 0.2184451 , 0.58646965,\n",
       "        0.48341426, 0.83754764, 0.17726349, 0.21634175, 0.4323663 ,\n",
       "        0.01879004, 0.45773244, 0.87295991, 0.60978061, 0.87380989,\n",
       "        0.93457954, 0.81539615, 0.36576051, 0.03150792],\n",
       "       [0.82642136, 0.50576409, 0.02512161, 0.67795503, 0.48916651,\n",
       "        0.37640533, 0.73284327, 0.40105935, 0.81564953, 0.69997783,\n",
       "        0.36232122, 0.82123604, 0.13101004, 0.77294388, 0.18144039,\n",
       "        0.73068488, 0.71865565, 0.99306813, 0.45477587, 0.2236537 ,\n",
       "        0.36191256, 0.23834289, 0.76555095, 0.88516659],\n",
       "       [0.11529964, 0.58773697, 0.31220462, 0.76388806, 0.64003086,\n",
       "        0.75294732, 0.78150049, 0.57408507, 0.85143668, 0.69507916,\n",
       "        0.7325264 , 0.63495986, 0.24731623, 0.50201038, 0.07965086,\n",
       "        0.4112401 , 0.57224889, 0.53239235, 0.20856016, 0.1158632 ,\n",
       "        0.81300559, 0.08231289, 0.91784618, 0.29792376],\n",
       "       [0.19303058, 0.7867101 , 0.47789361, 0.53906225, 0.97160721,\n",
       "        0.88895877, 0.28248436, 0.0694437 , 0.52629754, 0.84964003,\n",
       "        0.51396816, 0.05507044, 0.93942119, 0.2711035 , 0.88224147,\n",
       "        0.1899983 , 0.70546162, 0.26428674, 0.98135569, 0.10159246,\n",
       "        0.26043916, 0.17067251, 0.57820119, 0.77419313],\n",
       "       [0.20895974, 0.83466411, 0.1534343 , 0.03267818, 0.84074167,\n",
       "        0.7196187 , 0.7819916 , 0.50412063, 0.74148993, 0.3223816 ,\n",
       "        0.01089816, 0.26924045, 0.28524363, 0.30722087, 0.76577351,\n",
       "        0.92374758, 0.48998029, 0.84230565, 0.12561097, 0.30246876,\n",
       "        0.01282272, 0.77045619, 0.56681223, 0.82258147],\n",
       "       [0.98294021, 0.03709888, 0.09929953, 0.44076108, 0.12256422,\n",
       "        0.91158667, 0.38872904, 0.14439759, 0.1097425 , 0.30834457,\n",
       "        0.00135815, 0.46652192, 0.20039817, 0.47590996, 0.65782008,\n",
       "        0.08114465, 0.65472149, 0.33566721, 0.35295476, 0.873557  ,\n",
       "        0.61746059, 0.16218102, 0.32955563, 0.0353371 ],\n",
       "       [0.05876338, 0.91278657, 0.4011129 , 0.33070592, 0.19214807,\n",
       "        0.43673905, 0.66132283, 0.84376914, 0.84874657, 0.70077897,\n",
       "        0.1979443 , 0.54601094, 0.59261569, 0.25964291, 0.35097955,\n",
       "        0.75495581, 0.48543979, 0.69129432, 0.33378189, 0.61092208,\n",
       "        0.15729496, 0.38802156, 0.07321215, 0.73596939],\n",
       "       [0.47875995, 0.31175204, 0.4046068 , 0.05630759, 0.89662937,\n",
       "        0.18468152, 0.39312107, 0.96483019, 0.65764597, 0.707314  ,\n",
       "        0.1933664 , 0.16052901, 0.10942843, 0.45115028, 0.04014499,\n",
       "        0.48619545, 0.78103928, 0.86367203, 0.50418728, 0.15368977,\n",
       "        0.85223141, 0.09005153, 0.84240717, 0.93604971],\n",
       "       [0.50428787, 0.7264185 , 0.11086997, 0.44303624, 0.09870985,\n",
       "        0.07921526, 0.85797972, 0.70022625, 0.06607649, 0.84267647,\n",
       "        0.11675365, 0.83970278, 0.16835276, 0.20575643, 0.90098894,\n",
       "        0.40569226, 0.38493926, 0.47823112, 0.07014616, 0.43004678,\n",
       "        0.06593571, 0.52865333, 0.36803689, 0.03551107],\n",
       "       [0.97748595, 0.88960432, 0.84795504, 0.5439831 , 0.01300126,\n",
       "        0.75042538, 0.2018366 , 0.60325256, 0.8681575 , 0.02989606,\n",
       "        0.53803782, 0.47399201, 0.64463339, 0.6103707 , 0.00982462,\n",
       "        0.12757182, 0.89153474, 0.23301302, 0.73556402, 0.43897351,\n",
       "        0.1486951 , 0.47172748, 0.35483602, 0.81518841],\n",
       "       [0.39324972, 0.59068746, 0.60116638, 0.09962497, 0.52179998,\n",
       "        0.72455163, 0.50294181, 0.72064112, 0.06443486, 0.41698747,\n",
       "        0.62657168, 0.79237201, 0.9886012 , 0.53750709, 0.21154602,\n",
       "        0.31039616, 0.43553855, 0.74802615, 0.2485617 , 0.38510223,\n",
       "        0.43487564, 0.7676322 , 0.58841476, 0.94386607],\n",
       "       [0.22558281, 0.92189282, 0.25842128, 0.31946484, 0.68435344,\n",
       "        0.51554195, 0.90418279, 0.50608836, 0.34719606, 0.56722911,\n",
       "        0.49997032, 0.20213885, 0.19127093, 0.16896502, 0.94696059,\n",
       "        0.61075031, 0.47308338, 0.64853527, 0.71279365, 0.7286148 ,\n",
       "        0.44375405, 0.19416409, 0.16182139, 0.11616728],\n",
       "       [0.35970427, 0.99128323, 0.48944569, 0.66515005, 0.15514679,\n",
       "        0.5539827 , 0.11145259, 0.0520386 , 0.710103  , 0.97149712,\n",
       "        0.23064616, 0.23906627, 0.62687015, 0.07542914, 0.58552037,\n",
       "        0.58678705, 0.65322921, 0.71342043, 0.85366662, 0.11656993,\n",
       "        0.77775919, 0.69754846, 0.38081477, 0.163304  ],\n",
       "       [0.40195541, 0.80780535, 0.48700109, 0.79388474, 0.42956305,\n",
       "        0.45324089, 0.24853716, 0.53617731, 0.72236126, 0.73050712,\n",
       "        0.02396972, 0.45880729, 0.45254422, 0.06120038, 0.44582442,\n",
       "        0.31553719, 0.24482903, 0.49453945, 0.24946769, 0.82526978,\n",
       "        0.28937692, 0.13058006, 0.0177325 , 0.32257308],\n",
       "       [0.74320888, 0.34983839, 0.34722524, 0.26185509, 0.57112371,\n",
       "        0.38470312, 0.81301712, 0.82267174, 0.32507584, 0.85616354,\n",
       "        0.53114366, 0.87944065, 0.64830773, 0.55771341, 0.67564123,\n",
       "        0.5518097 , 0.13790089, 0.830096  , 0.22160668, 0.11920822,\n",
       "        0.94620408, 0.88310814, 0.57131636, 0.6533675 ],\n",
       "       [0.28643344, 0.3098671 , 0.14878004, 0.74876038, 0.43799001,\n",
       "        0.86484169, 0.60542441, 0.96554652, 0.62002597, 0.20231145,\n",
       "        0.45910123, 0.46647783, 0.44595484, 0.06141944, 0.00546315,\n",
       "        0.63348803, 0.53401925, 0.31576711, 0.79785122, 0.34226157,\n",
       "        0.18018803, 0.08918171, 0.6946393 , 0.64446449],\n",
       "       [0.80717261, 0.21693732, 0.65347914, 0.97655127, 0.60698403,\n",
       "        0.36067498, 0.43239728, 0.62985143, 0.97401771, 0.50062518,\n",
       "        0.64444717, 0.95300684, 0.69533464, 0.92185013, 0.34351494,\n",
       "        0.22454774, 0.88471945, 0.7719015 , 0.34560139, 0.93711188,\n",
       "        0.05363773, 0.81864751, 0.56372437, 0.22683734],\n",
       "       [0.53153818, 0.54532957, 0.45374477, 0.57956038, 0.16268925,\n",
       "        0.20018396, 0.50348504, 0.4267724 , 0.08659016, 0.85608881,\n",
       "        0.75769023, 0.77673759, 0.05931472, 0.92200707, 0.47698426,\n",
       "        0.90173037, 0.28122564, 0.03074187, 0.65350597, 0.81353639,\n",
       "        0.26700016, 0.6563241 , 0.90262039, 0.49085703],\n",
       "       [0.94497832, 0.07333116, 0.05576309, 0.2792237 , 0.37986731,\n",
       "        0.34797832, 0.64883478, 0.97518168, 0.48359033, 0.03393962,\n",
       "        0.49434756, 0.23285538, 0.63723747, 0.21610256, 0.39047567,\n",
       "        0.99867655, 0.7640258 , 0.83358097, 0.85443239, 0.52728757,\n",
       "        0.50132117, 0.46341041, 0.78887955, 0.95714277],\n",
       "       [0.42131573, 0.92686813, 0.21692119, 0.52575362, 0.64655012,\n",
       "        0.37808189, 0.95321903, 0.85393992, 0.5274366 , 0.1800553 ,\n",
       "        0.68216183, 0.537243  , 0.32544151, 0.671162  , 0.9332253 ,\n",
       "        0.24723721, 0.93307871, 0.95762641, 0.2356724 , 0.25729237,\n",
       "        0.9435023 , 0.77978923, 0.79401645, 0.70357345],\n",
       "       [0.6291358 , 0.86656288, 0.46657131, 0.70251952, 0.08544423,\n",
       "        0.7665596 , 0.00789123, 0.89175289, 0.47028823, 0.14280448,\n",
       "        0.9257518 , 0.58480032, 0.57381006, 0.68481642, 0.51836004,\n",
       "        0.00664748, 0.63661459, 0.16041622, 0.67290498, 0.62571477,\n",
       "        0.55069645, 0.86967464, 0.42453793, 0.49778054],\n",
       "       [0.57635072, 0.60189636, 0.08054973, 0.50345061, 0.498899  ,\n",
       "        0.67192597, 0.23280669, 0.20443579, 0.55741398, 0.19058137,\n",
       "        0.17613383, 0.58460419, 0.99251456, 0.80525642, 0.63969342,\n",
       "        0.01696911, 0.91581645, 0.83654645, 0.77796847, 0.8380656 ,\n",
       "        0.40357634, 0.77922464, 0.68520421, 0.04981732]])"
      ]
     },
     "execution_count": 24,
     "metadata": {},
     "output_type": "execute_result"
    }
   ],
   "source": [
    "np.random.random((24, 24))"
   ]
  },
  {
   "cell_type": "code",
   "execution_count": null,
   "id": "411f17b1-6a0e-4817-9168-5c0af2b43f9d",
   "metadata": {},
   "outputs": [],
   "source": []
  },
  {
   "cell_type": "code",
   "execution_count": null,
   "id": "9469c73b-d8e7-4da0-9b24-9e8732c477e4",
   "metadata": {},
   "outputs": [],
   "source": []
  },
  {
   "cell_type": "code",
   "execution_count": null,
   "id": "9fc24e2b-b55a-47b1-967f-339a51d0e3a2",
   "metadata": {},
   "outputs": [],
   "source": []
  },
  {
   "cell_type": "code",
   "execution_count": null,
   "id": "f961a908-c196-4fab-9643-84c6fdd13c00",
   "metadata": {},
   "outputs": [],
   "source": []
  },
  {
   "cell_type": "code",
   "execution_count": null,
   "id": "8ede374f-0de2-40d6-870c-ef55db7e4d22",
   "metadata": {},
   "outputs": [],
   "source": [
    "%%writefile Test/agent.py\n",
    "\n",
    "from lux.utils import direction_to\n",
    "import sys\n",
    "import numpy as np\n",
    "\n",
    "\n",
    "# Helper functions\n",
    "def manhattan_distance(pos1, pos2):\n",
    "    return abs(pos1[0] - pos2[0]) + abs(pos1[1] - pos2[1])\n",
    "\n",
    "def absolute_distance(pos1, pos2):\n",
    "    return max(abs(pos1[0] - pos2[0]), abs(pos1[1] - pos2[1]))\n",
    "\n",
    "def find_opposite_corner_coords(array, row, col):\n",
    "    \"\"\"\n",
    "    Given a 2D array and a coordinate (row, col), this function returns the opposite corner coordinates.\n",
    "\n",
    "    :param array: 2D list or NumPy array\n",
    "    :param row: Row index of the given point\n",
    "    :param col: Column index of the given point\n",
    "    :return: (row', col') - Opposite corner coordinates\n",
    "    \"\"\"\n",
    "    num_rows = len(array)\n",
    "    num_cols = len(array[0]) if num_rows > 0 else 0\n",
    "\n",
    "    # Opposite coordinates\n",
    "    opp_row = num_rows - 1 - row\n",
    "    opp_col = num_cols - 1 - col\n",
    "\n",
    "    return (opp_row, opp_col)\n",
    "\n",
    "\n",
    "# Classes\n",
    "\n",
    "class TileType:\n",
    "    unknown = -1\n",
    "    empty = 0\n",
    "    asteroid = 1\n",
    "    nebula = 2\n",
    "\n",
    "class ActionType:\n",
    "    center = 0\n",
    "    up = 1\n",
    "    right = 2\n",
    "    down = 3\n",
    "    left = 4\n",
    "    sap = 5\n",
    "\n",
    "class Tile:\n",
    "    def __init__(self, x, y):\n",
    "        self.x = x\n",
    "        self.y = y\n",
    "        self.type = TileType.unknown\n",
    "        self.energy = None\n",
    "        self.is_visible = False\n",
    "        self.is_relic = False\n",
    "        self.is_reward = False\n",
    "        self.is_explored = False\n",
    "        self.is_explored_for_relic = False\n",
    "        self.is_explored_for_reward = False\n",
    "        \n",
    "    @property\n",
    "    def coordinates(self):\n",
    "        return (self.x, self.y)\n",
    "        \n",
    "    @property\n",
    "    def is_walkable(self):\n",
    "        return self.type != NodeType.asteroid\n",
    "\n",
    "\n",
    "#class Fleet:\n",
    "#    def __init__(self, \n",
    "\n",
    "\n",
    "\n",
    "\n",
    "\n",
    "\n",
    "class Agent():\n",
    "    def __init__(self, player: str, env_cfg) -> None:\n",
    "        self.player = player\n",
    "        self.enemy_player = \"player_1\" if self.player == \"player_0\" else \"player_0\"\n",
    "        self.team_id = 0 if self.player == \"player_0\" else 1\n",
    "        self.enemy_team_id = 1 if self.team_id == 0 else 0\n",
    "        #np.random.seed(0)\n",
    "        self.env_cfg = env_cfg\n",
    "        self.unit_move_cost = env_cfg['unit_move_cost']\n",
    "        self.unit_sap_cost = env_cfg['unit_sap_cost']\n",
    "        self.unit_sap_range = env_cfg['unit_sap_range']\n",
    "        self.unit_sensor_range = env_cfg['unit_sensor_range']\n",
    "        self.map_height = env_cfg['map_height']\n",
    "        self.map_width = env_cfg['map_width']\n",
    "        self.min_unit_sap_dropoff_factor = 1\n",
    "        self.min_sap_power = self.unit_sap_cost * self.min_unit_sap_dropoff_factor\n",
    "        self.my_spawn_location = None\n",
    "        self.enemy_spawn_location = None\n",
    "        self.first_spawn = False\n",
    "\n",
    "        self.map_explored_status = np.zeros((self.map_height, self.map_width), dtype=int)\n",
    "        \n",
    "        self.relic_node_positions = []\n",
    "        self.discovered_relic_nodes_ids = set()\n",
    "        self.unit_explore_locations = dict()\n",
    "\n",
    "    def act(self, step: int, obs, remainingOverageTime: int = 60):\n",
    "        \"\"\"implement this function to decide what actions to send to each available unit. \n",
    "        \n",
    "        step is the current timestep number of the game starting from 0 going up to max_steps_in_match * match_count_per_episode - 1.\n",
    "        \"\"\"\n",
    "\n",
    "        # units\n",
    "        unit_positions = np.array(obs[\"units\"][\"position\"][self.team_id]) # shape (max_units, 2)\n",
    "        enemy_unit_positions = np.array(obs[\"units\"][\"position\"][self.enemy_team_id]) # shape (max_units, 2)\n",
    "\n",
    "        unit_energys = np.array(obs[\"units\"][\"energy\"][self.team_id]) # shape (max_units, 1)\n",
    "        enemy_unit_energys = np.array(obs[\"units\"][\"energy\"][self.enemy_team_id]) # shape (max_units, 1)\n",
    "\n",
    "        # units_mask\n",
    "        unit_mask = np.array(obs[\"units_mask\"][self.team_id]) # shape (max_units, )\n",
    "        enemy_unit_mask = np.array(obs[\"units_mask\"][self.enemy_team_id]) # shape (max_units, )\n",
    "\n",
    "        # sensor_mask\n",
    "        sensor_mask = obs['sensor_mask']\n",
    "\n",
    "        # map_features\n",
    "        map_features = obs['map_features']\n",
    "        current_map_energy = map_features['energy']\n",
    "        current_map_tile_type = map_features['tile_type']\n",
    "\n",
    "        # update map explored status\n",
    "        self.map_explored_status[current_map_tile_type != -1] = 1\n",
    "        \n",
    "        observed_relic_node_positions = np.array(obs[\"relic_nodes\"]) # shape (max_relic_nodes, 2)\n",
    "        observed_relic_nodes_mask = np.array(obs[\"relic_nodes_mask\"]) # shape (max_relic_nodes, )\n",
    "        team_points = np.array(obs[\"team_points\"]) # points of each team, team_points[self.team_id] is the points of the your team\n",
    "        \n",
    "        # ids of units you can control at this timestep\n",
    "        available_unit_ids = np.where(unit_mask)[0]\n",
    "        enemy_available_unit_ids = np.where(enemy_unit_mask)[0]\n",
    "\n",
    "        if available_unit_ids.shape[0] == 0:\n",
    "            pass\n",
    "        else:\n",
    "            if self.first_spawn == False:\n",
    "                first_unit_id = available_unit_ids[0]\n",
    "                first_unit_pos = unit_positions[first_unit_id]\n",
    "                self.my_spawn_location = (first_unit_pos[0], first_unit_pos[1])\n",
    "                self.enemy_spawn_location = find_opposite_corner_coords(self.map_explored_status, first_unit_pos[0], first_unit_pos[1])\n",
    "                self.first_spawn = True\n",
    "        \n",
    "        # visible relic nodes\n",
    "        visible_relic_node_ids = set(np.where(observed_relic_nodes_mask)[0])\n",
    "        \n",
    "        actions = np.zeros((self.env_cfg[\"max_units\"], 3), dtype=int)\n",
    "\n",
    "\n",
    "        # basic strategy here is simply to have some units randomly explore and some units collecting as much energy as possible\n",
    "        # and once a relic node is found, we send all units to move randomly around the first relic node to gain points\n",
    "        # and information about where relic nodes are found are saved for the next match\n",
    "        \n",
    "        # save any new relic nodes that we discover for the rest of the game.\n",
    "        for id in visible_relic_node_ids:\n",
    "            if id not in self.discovered_relic_nodes_ids:\n",
    "                self.discovered_relic_nodes_ids.add(id)\n",
    "                self.relic_node_positions.append(observed_relic_node_positions[id])\n",
    "\n",
    "\n",
    "        # combat algorithms\n",
    "        all_attack_units = []\n",
    "        firing_solutions = {}\n",
    "        if enemy_available_unit_ids.shape[0] != 0:\n",
    "            for enemy_unit_id in enemy_available_unit_ids:\n",
    "                enemy_unit_pos = enemy_unit_positions[enemy_unit_id]\n",
    "                enemy_unit_energy = enemy_unit_energys[enemy_unit_id]\n",
    "\n",
    "                if enemy_unit_energy >= 0:\n",
    "                \n",
    "                    group = []\n",
    "                    group_damage = 0\n",
    "                    for unit_id in available_unit_ids:\n",
    "                        unit_pos = unit_positions[unit_id]\n",
    "                        unit_energy = unit_energys[unit_id]\n",
    "                        enemy_distance = absolute_distance(unit_pos, enemy_unit_pos)\n",
    "                        if group_damage < enemy_unit_energy:\n",
    "                            if enemy_distance <= self.unit_sap_range:\n",
    "                                if unit_energy >= self.unit_sap_cost:\n",
    "                                    if unit_id not in all_attack_units:\n",
    "                                        group_damage += self.unit_sap_cost\n",
    "                                        group.append(unit_id)\n",
    "                                        \n",
    "                        else:\n",
    "                            continue\n",
    "                    attack_group = []\n",
    "                    if group_damage >= enemy_unit_energy:\n",
    "                        for unit_id in group:\n",
    "                            attack_group.append(unit_id)\n",
    "                            all_attack_units.append(unit_id)\n",
    "\n",
    "                    firing_solutions[f\"{enemy_unit_id}\"] = attack_group\n",
    "\n",
    "\n",
    "        \n",
    "        # unit ids range from 0 to max_units - 1\n",
    "        for unit_id in available_unit_ids:\n",
    "            unit_pos = unit_positions[unit_id]\n",
    "            unit_energy = unit_energys[unit_id]\n",
    "\n",
    "            # randomly explore by picking a random location on the map and moving there for about 20 steps\n",
    "            if step % 20 == 0 or unit_id not in self.unit_explore_locations:\n",
    "                rand_loc = (np.random.randint(0, self.env_cfg[\"map_width\"]), np.random.randint(0, self.env_cfg[\"map_height\"]))\n",
    "                self.unit_explore_locations[unit_id] = rand_loc\n",
    "            actions[unit_id] = [direction_to(unit_pos, self.unit_explore_locations[unit_id]), 0, 0]\n",
    "\n",
    "        if len(firing_solutions) > 0:\n",
    "            for enemy_unit_id in firing_solutions.keys():\n",
    "                attack_group = firing_solutions[enemy_unit_id]\n",
    "                enemy_unit_id = int(enemy_unit_id)\n",
    "                enemy_unit_pos = enemy_unit_positions[enemy_unit_id]\n",
    "    \n",
    "                for attack_unit_id in attack_group:\n",
    "                    attack_unit_pos = unit_positions[attack_unit_id]\n",
    "                    dx = enemy_unit_pos[0] - attack_unit_pos[0]\n",
    "                    dy = enemy_unit_pos[1] - attack_unit_pos[1]\n",
    "                    actions[attack_unit_id] = [5, dx, dy]            \n",
    "                \n",
    "        return actions"
   ]
  },
  {
   "cell_type": "code",
   "execution_count": null,
   "id": "1d31b2ab-ed28-46cc-b5d8-c6670a1a3b74",
   "metadata": {},
   "outputs": [],
   "source": [
    "!luxai-s3 Test/main.py Test/main.py --output=replay_my_agent.html"
   ]
  },
  {
   "cell_type": "code",
   "execution_count": null,
   "id": "5a70e049-5c0b-49ef-90c0-efa060ae4fec",
   "metadata": {},
   "outputs": [],
   "source": []
  },
  {
   "cell_type": "code",
   "execution_count": null,
   "id": "a02a8e7b-a6ca-44f1-918a-a3e5ba8bc40b",
   "metadata": {},
   "outputs": [],
   "source": [
    "            '''\n",
    "            # Sap\n",
    "            if unit_energy >= self.unit_sap_cost:\n",
    "                if enemy_available_unit_ids.shape[0] != 0:\n",
    "                    visible_enemy_unit_positions = enemy_unit_positions[enemy_available_unit_ids]\n",
    "                    visible_enemy_unit_energys = enemy_unit_energys[enemy_available_unit_ids]\n",
    "                    visible_enemy_unit_distances = np.array([absolute_distance(unit_pos, visible_enemy_unit_pos) for visible_enemy_unit_pos in visible_enemy_unit_positions])\n",
    "                    \n",
    "                    enemies_within_sap_range = visible_enemy_unit_distances <= self.unit_sap_range\n",
    "                    enemies_within_sap_range_positions = visible_enemy_unit_positions[enemies_within_sap_range]\n",
    "                    enemies_within_sap_range_energys = visible_enemy_unit_energys[enemies_within_sap_range]\n",
    "                    \n",
    "                    killable_enemies = enemies_within_sap_range_energys <= self.min_sap_power\n",
    "                    killable_enemy_positions = enemies_within_sap_range_positions[killable_enemies]\n",
    "                    killable_enemy_energys = enemies_within_sap_range_energys[killable_enemies]\n",
    "                    \n",
    "                    if killable_enemy_positions.shape[0] > 0:\n",
    "                        random_target = np.random.randint(killable_enemy_positions.shape[0])\n",
    "                        random_target_positions = killable_enemy_positions[random_target]\n",
    "                        random_target_energy = killable_enemy_energys[random_target]\n",
    "                        if random_target_energy >= 0:\n",
    "                            dx = random_target_positions[0] - unit_pos[0]\n",
    "                            dy = random_target_positions[1] - unit_pos[1]\n",
    "                            actions[unit_id] = [5, dx, dy]\n",
    "                            continue\n",
    "            '''\n",
    "\n",
    "                    \n",
    "                    '''\n",
    "                    min_enemy_distance = visible_enemy_unit_distances.min()\n",
    "                    if min_enemy_distance <= self.unit_sap_range:\n",
    "                        neariest_enemies = visible_enemy_unit_distances == min_enemy_distance\n",
    "                        neariest_enemy_pos = visible_enemy_unit_positions[neariest_enemies]\n",
    "                        first_neariest_enemy_pos = neariest_enemy_pos[0]\n",
    "                        dx = first_neariest_enemy_pos[0] - unit_pos[0]\n",
    "                        dy = first_neariest_enemy_pos[1] - unit_pos[1]\n",
    "                        actions[unit_id] = [5, dx, dy]\n",
    "                        continue\n",
    "                    '''\n",
    "            '''\n",
    "            if len(self.relic_node_positions) > 0:\n",
    "                first_relic_node_position = self.relic_node_positions[0]\n",
    "                distance_from_unit_to_first_relic = manhattan_distance(unit_pos, first_relic_node_position)\n",
    "                \n",
    "                # if close to the relic node we want to hover around it and hope to gain points\n",
    "                if distance_from_unit_to_first_relic <= 4:\n",
    "                    random_direction = np.random.randint(0, 5)\n",
    "                    actions[unit_id] = [random_direction, 0, 0]\n",
    "                    \n",
    "                else:\n",
    "                    # otherwise we want to move towards the relic node\n",
    "                    actions[unit_id] = [direction_to(unit_pos, first_relic_node_position), 0, 0]\n",
    "                    \n",
    "            else:\n",
    "                # randomly explore by picking a random location on the map and moving there for about 20 steps\n",
    "                if step % 20 == 0 or unit_id not in self.unit_explore_locations:\n",
    "                    rand_loc = (np.random.randint(0, self.env_cfg[\"map_width\"]), np.random.randint(0, self.env_cfg[\"map_height\"]))\n",
    "                    self.unit_explore_locations[unit_id] = rand_loc\n",
    "                actions[unit_id] = [direction_to(unit_pos, self.unit_explore_locations[unit_id]), 0, 0]\n",
    "            '''"
   ]
  },
  {
   "cell_type": "code",
   "execution_count": null,
   "id": "76d86c5b-dd38-4902-b09c-b16c488a673a",
   "metadata": {},
   "outputs": [],
   "source": []
  },
  {
   "cell_type": "code",
   "execution_count": null,
   "id": "e24a7fc4-bd67-4df4-a8b7-a4d9394a3073",
   "metadata": {},
   "outputs": [],
   "source": []
  },
  {
   "cell_type": "code",
   "execution_count": null,
   "id": "6d12ee43-8892-4734-8088-188f7ba8bdb6",
   "metadata": {},
   "outputs": [],
   "source": []
  },
  {
   "cell_type": "code",
   "execution_count": null,
   "id": "c8756746-a412-45dc-9d7e-19bb3634cab8",
   "metadata": {},
   "outputs": [],
   "source": []
  },
  {
   "cell_type": "code",
   "execution_count": null,
   "id": "2acd0da1-8c52-43e9-8355-934e95bb472f",
   "metadata": {},
   "outputs": [],
   "source": []
  },
  {
   "cell_type": "code",
   "execution_count": null,
   "id": "b8cf7a8b-380e-484f-a651-0f2fabf60267",
   "metadata": {},
   "outputs": [],
   "source": []
  },
  {
   "cell_type": "code",
   "execution_count": null,
   "id": "62f79858-22aa-4d61-ab97-047c6523f941",
   "metadata": {},
   "outputs": [],
   "source": [
    "class TileType:\n",
    "    unknown = -1\n",
    "    empty = 0\n",
    "    asteroid = 1\n",
    "    nebula = 2"
   ]
  },
  {
   "cell_type": "code",
   "execution_count": null,
   "id": "374dcd40-6737-4256-90da-f968db5b77bd",
   "metadata": {},
   "outputs": [],
   "source": [
    "dir(TileType)"
   ]
  },
  {
   "cell_type": "code",
   "execution_count": null,
   "id": "c119f2a4-166c-44be-be78-25f1bffe415e",
   "metadata": {},
   "outputs": [],
   "source": []
  },
  {
   "cell_type": "code",
   "execution_count": null,
   "id": "f09e956b-3dfc-4825-b3d4-59b94358ce84",
   "metadata": {},
   "outputs": [],
   "source": []
  },
  {
   "cell_type": "code",
   "execution_count": null,
   "id": "880dc7b4-4a91-423f-84a2-863c1528e084",
   "metadata": {},
   "outputs": [],
   "source": [
    "%%writefile Test/agent.py\n",
    "\n",
    "from lux.utils import direction_to\n",
    "import sys\n",
    "import numpy as np\n",
    "\n",
    "class TileType:\n",
    "    unknown = -1\n",
    "    empty = 0\n",
    "    asteroid = 1\n",
    "    nebula = 2\n",
    "\n",
    "class ActionType:\n",
    "    center = 0\n",
    "    up = 1\n",
    "    right = 2\n",
    "    down = 3\n",
    "    left = 4\n",
    "    sap = 5\n",
    "\n",
    "    \n",
    "\n",
    "class Agent():\n",
    "    def __init__(self, player: str, env_cfg) -> None:\n",
    "        self.player = player\n",
    "        self.enemy_player = \"player_1\" if self.player == \"player_0\" else \"player_0\"\n",
    "        self.team_id = 0 if self.player == \"player_0\" else 1\n",
    "        self.enemy_team_id = 1 if self.team_id == 0 else 0\n",
    "        np.random.seed(0)\n",
    "        self.env_cfg = env_cfg\n",
    "        \n",
    "        self.relic_node_positions = []\n",
    "        self.discovered_relic_nodes_ids = set()\n",
    "        self.unit_explore_locations = dict()\n",
    "\n",
    "    def act(self, step: int, obs, remainingOverageTime: int = 60):\n",
    "        \"\"\"implement this function to decide what actions to send to each available unit. \n",
    "        \n",
    "        step is the current timestep number of the game starting from 0 going up to max_steps_in_match * match_count_per_episode - 1.\n",
    "        \"\"\"\n",
    "        unit_mask = np.array(obs[\"units_mask\"][self.team_id]) # shape (max_units, )\n",
    "        enemy_unit_mask = np.array(obs[\"units_mask\"][self.enemy_team_id]) # shape (max_units, )\n",
    "        \n",
    "        unit_positions = np.array(obs[\"units\"][\"position\"][self.team_id]) # shape (max_units, 2)\n",
    "        enemy_unit_positions = np.array(obs[\"units\"][\"position\"][self.enemy_team_id]) # shape (max_units, 2)\n",
    "        \n",
    "        unit_energys = np.array(obs[\"units\"][\"energy\"][self.team_id]) # shape (max_units, 1)\n",
    "        enemy_unit_energys = np.array(obs[\"units\"][\"energy\"][self.enemy_team_id]) # shape (max_units, 1)\n",
    "        \n",
    "        observed_relic_node_positions = np.array(obs[\"relic_nodes\"]) # shape (max_relic_nodes, 2)\n",
    "        observed_relic_nodes_mask = np.array(obs[\"relic_nodes_mask\"]) # shape (max_relic_nodes, )\n",
    "        team_points = np.array(obs[\"team_points\"]) # points of each team, team_points[self.team_id] is the points of the your team\n",
    "        \n",
    "        # ids of units you can control at this timestep\n",
    "        available_unit_ids = np.where(unit_mask)[0]\n",
    "        enemy_available_unit_ids = np.where(enemy_unit_mask)[0]\n",
    "        \n",
    "        # visible relic nodes\n",
    "        visible_relic_node_ids = set(np.where(observed_relic_nodes_mask)[0])\n",
    "        \n",
    "        actions = np.zeros((self.env_cfg[\"max_units\"], 3), dtype=int)\n",
    "\n",
    "\n",
    "        # basic strategy here is simply to have some units randomly explore and some units collecting as much energy as possible\n",
    "        # and once a relic node is found, we send all units to move randomly around the first relic node to gain points\n",
    "        # and information about where relic nodes are found are saved for the next match\n",
    "        \n",
    "        # save any new relic nodes that we discover for the rest of the game.\n",
    "        for id in visible_relic_node_ids:\n",
    "            if id not in self.discovered_relic_nodes_ids:\n",
    "                self.discovered_relic_nodes_ids.add(id)\n",
    "                self.relic_node_positions.append(observed_relic_node_positions[id])\n",
    "            \n",
    "\n",
    "        # unit ids range from 0 to max_units - 1\n",
    "        for unit_id in available_unit_ids:\n",
    "            unit_pos = unit_positions[unit_id]\n",
    "            unit_energy = unit_energys[unit_id]\n",
    "            first_enemy_unit_position = enemy_unit_positions[0]\n",
    "            \n",
    "            actions[unit_id] = [direction_to(unit_pos, first_enemy_unit_position), 0, 0]\n",
    "                \n",
    "        return actions"
   ]
  },
  {
   "cell_type": "code",
   "execution_count": null,
   "id": "89e52071-2660-469c-a59c-7e87236681c1",
   "metadata": {},
   "outputs": [],
   "source": []
  },
  {
   "cell_type": "code",
   "execution_count": null,
   "id": "b49fa541-b882-4ab8-a7b2-19b3efbd877c",
   "metadata": {},
   "outputs": [],
   "source": []
  },
  {
   "cell_type": "code",
   "execution_count": null,
   "id": "2b590874-d695-4b0e-a3b7-6375a91384d1",
   "metadata": {},
   "outputs": [],
   "source": []
  },
  {
   "cell_type": "code",
   "execution_count": null,
   "id": "e294da04-050b-40d3-8ff0-b4a23e4e6a1b",
   "metadata": {},
   "outputs": [],
   "source": []
  },
  {
   "cell_type": "code",
   "execution_count": null,
   "id": "f1e0c2f2-5cdc-44bc-8d5c-c41e9ad360ca",
   "metadata": {},
   "outputs": [],
   "source": []
  },
  {
   "cell_type": "code",
   "execution_count": null,
   "id": "1365e3d0-a9f4-4771-a856-59af12b7eb9d",
   "metadata": {},
   "outputs": [],
   "source": []
  },
  {
   "cell_type": "code",
   "execution_count": null,
   "id": "ce87bb4f-5b6e-4042-a143-50a860973afe",
   "metadata": {},
   "outputs": [],
   "source": []
  },
  {
   "cell_type": "code",
   "execution_count": null,
   "id": "abe33266-9d3c-4553-9884-626eaf8294b7",
   "metadata": {},
   "outputs": [],
   "source": []
  },
  {
   "cell_type": "code",
   "execution_count": null,
   "id": "26bdc55d-20ea-4465-a5df-1ce64a20c35e",
   "metadata": {},
   "outputs": [],
   "source": []
  },
  {
   "cell_type": "code",
   "execution_count": null,
   "id": "a1a0ea45-9d5f-422d-97e4-df28084b3764",
   "metadata": {},
   "outputs": [],
   "source": []
  },
  {
   "cell_type": "code",
   "execution_count": null,
   "id": "bb74c152-213a-4ee2-bd94-89ca0ad768b0",
   "metadata": {},
   "outputs": [],
   "source": []
  },
  {
   "cell_type": "code",
   "execution_count": null,
   "id": "b3fd4a7c-7587-4b22-b87a-dd551e82422b",
   "metadata": {},
   "outputs": [],
   "source": []
  },
  {
   "cell_type": "code",
   "execution_count": null,
   "id": "e3829798-b927-48ab-9226-9ea4a096ca29",
   "metadata": {},
   "outputs": [],
   "source": []
  },
  {
   "cell_type": "code",
   "execution_count": null,
   "id": "0dd21d74-82a8-46de-9ea1-760fa3d75042",
   "metadata": {},
   "outputs": [],
   "source": []
  },
  {
   "cell_type": "code",
   "execution_count": null,
   "id": "687b3be4-5fd8-4ab0-ab0b-e301633b3ff5",
   "metadata": {},
   "outputs": [],
   "source": []
  },
  {
   "cell_type": "code",
   "execution_count": null,
   "id": "9f2728f2-f0c8-4fca-be5e-e66b1f03c810",
   "metadata": {},
   "outputs": [],
   "source": []
  },
  {
   "cell_type": "code",
   "execution_count": null,
   "id": "2a464e68-6f2c-4301-b1a6-74cf7332b051",
   "metadata": {},
   "outputs": [],
   "source": []
  },
  {
   "cell_type": "code",
   "execution_count": null,
   "id": "3d23b44e-7337-4ab0-8095-d73c68546e26",
   "metadata": {},
   "outputs": [],
   "source": []
  },
  {
   "cell_type": "code",
   "execution_count": null,
   "id": "23f14207-4200-4590-913f-849262599f0a",
   "metadata": {},
   "outputs": [],
   "source": []
  },
  {
   "cell_type": "code",
   "execution_count": null,
   "id": "7c64b126-a230-4af7-a91d-9e6133a7793c",
   "metadata": {},
   "outputs": [],
   "source": []
  },
  {
   "cell_type": "code",
   "execution_count": null,
   "id": "9673445d-91ca-4def-935f-0691c1398e17",
   "metadata": {},
   "outputs": [],
   "source": []
  },
  {
   "cell_type": "code",
   "execution_count": null,
   "id": "76a78402-bf58-44c9-966b-1d65e91e25e4",
   "metadata": {},
   "outputs": [],
   "source": []
  },
  {
   "cell_type": "code",
   "execution_count": null,
   "id": "51b3a888-f14e-4629-a3e8-d41fc56a7b95",
   "metadata": {},
   "outputs": [],
   "source": []
  },
  {
   "cell_type": "code",
   "execution_count": null,
   "id": "204feab9-030d-42f4-99ca-ce7c6350fd4d",
   "metadata": {},
   "outputs": [],
   "source": []
  },
  {
   "cell_type": "code",
   "execution_count": null,
   "id": "1a418d0a-7b08-4290-84a7-fff68531ed3e",
   "metadata": {},
   "outputs": [],
   "source": [
    "import numpy as np"
   ]
  },
  {
   "cell_type": "code",
   "execution_count": null,
   "id": "76a8c2c7",
   "metadata": {
    "papermill": {
     "duration": 0.092931,
     "end_time": "2024-12-26T20:01:01.520683",
     "exception": false,
     "start_time": "2024-12-26T20:01:01.427752",
     "status": "completed"
    },
    "tags": []
   },
   "outputs": [],
   "source": [
    "class Agent():\n",
    "    def __init__(self, player: str, env_cfg) -> None:\n",
    "        self.player = player\n",
    "        self.opp_player = \"player_1\" if self.player == \"player_0\" else \"player_0\"\n",
    "        self.team_id = 0 if self.player == \"player_0\" else 1\n",
    "        self.opp_team_id = 1 if self.team_id == 0 else 0\n",
    "        np.random.seed(0)\n",
    "        self.env_cfg = env_cfg\n",
    "\n",
    "    def act(self, step: int, obs, remainingOverageTime: int = 60):\n",
    "        \"\"\"implement this function to decide what actions to send to each available unit. \n",
    "        \n",
    "        step is the current timestep number of the game starting from 0 going up to max_steps_in_match * match_count_per_episode - 1.\n",
    "        \"\"\"\n",
    "        unit_mask = np.array(obs[\"units_mask\"][self.team_id]) # shape (max_units, )\n",
    "        unit_positions = np.array(obs[\"units\"][\"position\"][self.team_id]) # shape (max_units, 2)\n",
    "        unit_energys = np.array(obs[\"units\"][\"energy\"][self.team_id]) # shape (max_units, 1)\n",
    "        observed_relic_node_positions = np.array(obs[\"relic_nodes\"]) # shape (max_relic_nodes, 2)\n",
    "        observed_relic_nodes_mask = np.array(obs[\"relic_nodes_mask\"]) # shape (max_relic_nodes, )\n",
    "        team_points = np.array(obs[\"team_points\"]) # points of each team, team_points[self.team_id] is the points of the your team\n",
    "        # ids of units you can control at this timestep\n",
    "        available_unit_ids = np.where(unit_mask)[0]\n",
    "        actions = np.zeros((self.env_cfg[\"max_units\"], 3), dtype=int)\n",
    "\n",
    "        return actions"
   ]
  },
  {
   "cell_type": "markdown",
   "id": "62a33cb3",
   "metadata": {
    "papermill": {
     "duration": 0.080819,
     "end_time": "2024-12-26T20:01:01.682295",
     "exception": false,
     "start_time": "2024-12-26T20:01:01.601476",
     "status": "completed"
    },
    "tags": []
   },
   "source": [
    "The next code snippet provides a simple agent evaluation function that creates an initial environment and provides an initial seed. Then it runs games and automatically saves replays to the `replays` folder as it goes. The replays are auto saved after each environment reset or when the environment is closed and can be watched by uploading them to https://s3vis.lux-ai.org/"
   ]
  },
  {
   "cell_type": "code",
   "execution_count": null,
   "id": "88afdaed",
   "metadata": {
    "papermill": {
     "duration": 2.245903,
     "end_time": "2024-12-26T20:01:04.008828",
     "exception": false,
     "start_time": "2024-12-26T20:01:01.762925",
     "status": "completed"
    },
    "tags": []
   },
   "outputs": [],
   "source": [
    "import json\n",
    "from IPython.display import display, Javascript\n",
    "from luxai_s3.wrappers import LuxAIS3GymEnv, RecordEpisode\n",
    "\n",
    "def render_episode(episode: RecordEpisode) -> None:\n",
    "    data = json.dumps(episode.serialize_episode_data(), separators=(\",\", \":\"))\n",
    "    display(Javascript(f\"\"\"\n",
    "var iframe = document.createElement('iframe');\n",
    "iframe.src = 'https://s3vis.lux-ai.org/#/kaggle';\n",
    "iframe.width = '100%';\n",
    "iframe.scrolling = 'no';\n",
    "\n",
    "iframe.addEventListener('load', event => {{\n",
    "    event.target.contentWindow.postMessage({data}, 'https://s3vis.lux-ai.org');\n",
    "}});\n",
    "\n",
    "new ResizeObserver(entries => {{\n",
    "    for (const entry of entries) {{\n",
    "        entry.target.height = `${{Math.round(320 + 0.3 * entry.contentRect.width)}}px`;\n",
    "    }}\n",
    "}}).observe(iframe);\n",
    "\n",
    "element.append(iframe);\n",
    "    \"\"\"))\n",
    "\n",
    "def evaluate_agents(agent_1_cls, agent_2_cls, seed=42, games_to_play=1, replay_save_dir=\"replays\"):\n",
    "    env = RecordEpisode(\n",
    "        LuxAIS3GymEnv(numpy_output=True), save_on_close=True, save_on_reset=True, save_dir=replay_save_dir\n",
    "    )\n",
    "    obs, info = env.reset(seed=seed)\n",
    "    for i in range(games_to_play):\n",
    "        obs, info = env.reset()\n",
    "        env_cfg = info[\"params\"] # only contains observable game parameters\n",
    "        player_0 = agent_1_cls(\"player_0\", env_cfg)\n",
    "        player_1 = agent_2_cls(\"player_1\", env_cfg)\n",
    "    \n",
    "        # main game loop\n",
    "        game_done = False\n",
    "        step = 0\n",
    "        print(f\"Running game {i}\")\n",
    "        while not game_done:\n",
    "            actions = dict()\n",
    "            for agent in [player_0, player_1]:\n",
    "                actions[agent.player] = agent.act(step=step, obs=obs[agent.player])\n",
    "            obs, reward, terminated, truncated, info = env.step(actions)\n",
    "            # info[\"state\"] is the environment state object, you can inspect/play around with it to e.g. print\n",
    "            # unobservable game data that agents can't see\n",
    "            dones = {k: terminated[k] | truncated[k] for k in terminated}\n",
    "            if dones[\"player_0\"] or dones[\"player_1\"]:\n",
    "                game_done = True\n",
    "            step += 1\n",
    "        render_episode(env)\n",
    "    env.close() # free up resources and save final replay"
   ]
  },
  {
   "cell_type": "code",
   "execution_count": null,
   "id": "f6533a01",
   "metadata": {
    "papermill": {
     "duration": 23.819181,
     "end_time": "2024-12-26T20:01:27.908934",
     "exception": false,
     "start_time": "2024-12-26T20:01:04.089753",
     "status": "completed"
    },
    "tags": []
   },
   "outputs": [],
   "source": [
    "evaluate_agents(Agent, Agent) # here we evaluate our dummy agent against itself, it will auto render in the notebook\n",
    "!ls replays # see what replays we have"
   ]
  },
  {
   "cell_type": "markdown",
   "id": "3fba9417",
   "metadata": {
    "papermill": {
     "duration": 0.222261,
     "end_time": "2024-12-26T20:01:28.365049",
     "exception": false,
     "start_time": "2024-12-26T20:01:28.142788",
     "status": "completed"
    },
    "tags": []
   },
   "source": [
    "Now that we have some agents that can be run, lets add some logic to the agent so that it can go and explore. We will use a basic strategy of sampling a random location on the game map, and having the unit move there until it reaches that location."
   ]
  },
  {
   "cell_type": "code",
   "execution_count": null,
   "id": "2763aa17",
   "metadata": {
    "papermill": {
     "duration": 0.196392,
     "end_time": "2024-12-26T20:01:28.742058",
     "exception": false,
     "start_time": "2024-12-26T20:01:28.545666",
     "status": "completed"
    },
    "tags": []
   },
   "outputs": [],
   "source": [
    "from lux.utils import direction_to\n",
    "import numpy as np\n",
    "class Agent():\n",
    "    def __init__(self, player: str, env_cfg) -> None:\n",
    "        self.player = player\n",
    "        self.opp_player = \"player_1\" if self.player == \"player_0\" else \"player_0\"\n",
    "        self.team_id = 0 if self.player == \"player_0\" else 1\n",
    "        self.opp_team_id = 1 if self.team_id == 0 else 0\n",
    "        np.random.seed(0)\n",
    "        self.env_cfg = env_cfg\n",
    "        \n",
    "        self.unit_explore_locations = dict()\n",
    "\n",
    "    def act(self, step: int, obs, remainingOverageTime: int = 60):\n",
    "        \"\"\"implement this function to decide what actions to send to each available unit. \n",
    "        \n",
    "        step is the current timestep number of the game starting from 0 going up to max_steps_in_match * match_count_per_episode - 1.\n",
    "        \"\"\"\n",
    "        unit_mask = np.array(obs[\"units_mask\"][self.team_id]) # shape (max_units, )\n",
    "        unit_positions = np.array(obs[\"units\"][\"position\"][self.team_id]) # shape (max_units, 2)\n",
    "        unit_energys = np.array(obs[\"units\"][\"energy\"][self.team_id]) # shape (max_units, 1)\n",
    "        observed_relic_node_positions = np.array(obs[\"relic_nodes\"]) # shape (max_relic_nodes, 2)\n",
    "        observed_relic_nodes_mask = np.array(obs[\"relic_nodes_mask\"]) # shape (max_relic_nodes, )\n",
    "        team_points = np.array(obs[\"team_points\"]) # points of each team, team_points[self.team_id] is the points of the your team\n",
    "        # ids of units you can control at this timestep\n",
    "        available_unit_ids = np.where(unit_mask)[0]\n",
    "        actions = np.zeros((self.env_cfg[\"max_units\"], 3), dtype=int)\n",
    "\n",
    "        # unit ids range from 0 to max_units - 1\n",
    "        for unit_id in available_unit_ids:\n",
    "            unit_pos = unit_positions[unit_id]\n",
    "            # every 20 steps or if a unit doesn't have an assigned location to explore\n",
    "            if step % 20 == 0 or unit_id not in self.unit_explore_locations:\n",
    "                # pick a random location on the map for the unit to explore\n",
    "                rand_loc = (np.random.randint(0, self.env_cfg[\"map_width\"]), np.random.randint(0, self.env_cfg[\"map_height\"]))\n",
    "                self.unit_explore_locations[unit_id] = rand_loc\n",
    "            # using the direction_to tool we can generate a direction that makes the unit move to the saved location\n",
    "            # note that the first index of each unit's action represents the type of action. See specs for more details\n",
    "            actions[unit_id] = [direction_to(unit_pos, self.unit_explore_locations[unit_id]), 0, 0]\n",
    "        return actions"
   ]
  },
  {
   "cell_type": "code",
   "execution_count": null,
   "id": "804dfe4b",
   "metadata": {
    "papermill": {
     "duration": 22.391019,
     "end_time": "2024-12-26T20:01:51.314519",
     "exception": false,
     "start_time": "2024-12-26T20:01:28.923500",
     "status": "completed"
    },
    "tags": []
   },
   "outputs": [],
   "source": [
    "evaluate_agents(Agent, Agent)"
   ]
  },
  {
   "cell_type": "markdown",
   "id": "4f500419",
   "metadata": {
    "papermill": {
     "duration": 0.343024,
     "end_time": "2024-12-26T20:01:52.014319",
     "exception": false,
     "start_time": "2024-12-26T20:01:51.671295",
     "status": "completed"
    },
    "tags": []
   },
   "source": [
    "Great now that we have randomly moving units, we now want to move to locations that give our team points, namely relic nodes. Recall that in this season's game, you can only see what your units see, so information about the dynamically changing map is crucical. For starters we will write some code to track every relic node location we find as we need to go there to get points. Because each game has 5 matches and the map is preserved in between matches, we can save map information between matches to improve our agent's gameplay. In the example code below, we implement a very basic strategy to leverage this information by simply making all units move towards a relic node. Since to gain points a unit must move on top of a hidden tile near the relic node (in a 5x5 square centered at the node) we add code to make units move randomly around relic nodes if they are close enough."
   ]
  },
  {
   "cell_type": "code",
   "execution_count": null,
   "id": "b1da71c4",
   "metadata": {
    "papermill": {
     "duration": 0.357413,
     "end_time": "2024-12-26T20:01:52.715542",
     "exception": false,
     "start_time": "2024-12-26T20:01:52.358129",
     "status": "completed"
    },
    "tags": []
   },
   "outputs": [],
   "source": [
    "from lux.utils import direction_to\n",
    "import numpy as np\n",
    "class Agent():\n",
    "    def __init__(self, player: str, env_cfg) -> None:\n",
    "        self.player = player\n",
    "        self.opp_player = \"player_1\" if self.player == \"player_0\" else \"player_0\"\n",
    "        self.team_id = 0 if self.player == \"player_0\" else 1\n",
    "        self.opp_team_id = 1 if self.team_id == 0 else 0\n",
    "        np.random.seed(0)\n",
    "        self.env_cfg = env_cfg\n",
    "        \n",
    "        self.unit_explore_locations = dict()\n",
    "        self.relic_node_positions = []\n",
    "        self.discovered_relic_nodes_ids = set()\n",
    "\n",
    "    def act(self, step: int, obs, remainingOverageTime: int = 60):\n",
    "        \"\"\"implement this function to decide what actions to send to each available unit. \n",
    "        \n",
    "        step is the current timestep number of the game starting from 0 going up to max_steps_in_match * match_count_per_episode - 1.\n",
    "        \"\"\"\n",
    "        unit_mask = np.array(obs[\"units_mask\"][self.team_id]) # shape (max_units, )\n",
    "        unit_positions = np.array(obs[\"units\"][\"position\"][self.team_id]) # shape (max_units, 2)\n",
    "        unit_energys = np.array(obs[\"units\"][\"energy\"][self.team_id]) # shape (max_units, 1)\n",
    "        observed_relic_node_positions = np.array(obs[\"relic_nodes\"]) # shape (max_relic_nodes, 2)\n",
    "        observed_relic_nodes_mask = np.array(obs[\"relic_nodes_mask\"]) # shape (max_relic_nodes, )\n",
    "        team_points = np.array(obs[\"team_points\"]) # points of each team, team_points[self.team_id] is the points of the your team\n",
    "        # ids of units you can control at this timestep\n",
    "        available_unit_ids = np.where(unit_mask)[0]\n",
    "        actions = np.zeros((self.env_cfg[\"max_units\"], 3), dtype=int)\n",
    "\n",
    "\n",
    "        # visible relic nodes\n",
    "        visible_relic_node_ids = set(np.where(observed_relic_nodes_mask)[0])\n",
    "        # save any new relic nodes that we discover for the rest of the game.\n",
    "        for id in visible_relic_node_ids:\n",
    "            if id not in self.discovered_relic_nodes_ids:\n",
    "                self.discovered_relic_nodes_ids.add(id)\n",
    "                self.relic_node_positions.append(observed_relic_node_positions[id])\n",
    "\n",
    "        # unit ids range from 0 to max_units - 1\n",
    "        for unit_id in available_unit_ids:\n",
    "            unit_pos = unit_positions[unit_id]\n",
    "            # if we found at least one relic node\n",
    "            if len(self.relic_node_positions) > 0:\n",
    "                nearest_relic_node_position = self.relic_node_positions[0]\n",
    "                manhattan_distance = abs(unit_pos[0] - nearest_relic_node_position[0]) + abs(unit_pos[1] - nearest_relic_node_position[1])\n",
    "                \n",
    "                # if close to the relic node we want to move randomly around it and hope to gain points\n",
    "                if manhattan_distance <= 4:\n",
    "                    random_direction = np.random.randint(0, 5)\n",
    "                    actions[unit_id] = [random_direction, 0, 0]\n",
    "                else:\n",
    "                    # otherwise we want to move towards the relic node\n",
    "                    actions[unit_id] = [direction_to(unit_pos, nearest_relic_node_position), 0, 0]\n",
    "            # every 20 steps or if a unit doesn't have an assigned location to explore\n",
    "            else:\n",
    "                if step % 20 == 0 or unit_id not in self.unit_explore_locations:\n",
    "                    # pick a random location on the map for the unit to explore\n",
    "                    rand_loc = (np.random.randint(0, self.env_cfg[\"map_width\"]), np.random.randint(0, self.env_cfg[\"map_height\"]))\n",
    "                    self.unit_explore_locations[unit_id] = rand_loc\n",
    "                # using the direction_to tool we can generate a direction that makes the unit move to the saved location\n",
    "                # note that the first index of each unit's action represents the type of action. See specs for more details\n",
    "                actions[unit_id] = [direction_to(unit_pos, self.unit_explore_locations[unit_id]), 0, 0]\n",
    "        return actions"
   ]
  },
  {
   "cell_type": "code",
   "execution_count": null,
   "id": "267b5d65",
   "metadata": {
    "papermill": {
     "duration": 22.525078,
     "end_time": "2024-12-26T20:02:15.582371",
     "exception": false,
     "start_time": "2024-12-26T20:01:53.057293",
     "status": "completed"
    },
    "tags": []
   },
   "outputs": [],
   "source": [
    "evaluate_agents(Agent, Agent)"
   ]
  },
  {
   "cell_type": "markdown",
   "id": "21b39d7f",
   "metadata": {
    "papermill": {
     "duration": 0.526286,
     "end_time": "2024-12-26T20:02:16.613501",
     "exception": false,
     "start_time": "2024-12-26T20:02:16.087215",
     "status": "completed"
    },
    "tags": []
   },
   "source": [
    "## Create a submission\n",
    "Now we need to create a .tar.gz file with main.py (and agent.py) at the top level. We can then upload this. In the notebook you can write to a local file with the %%writefile command, just copy your agent code below:"
   ]
  },
  {
   "cell_type": "code",
   "execution_count": null,
   "id": "72bd991b",
   "metadata": {
    "papermill": {
     "duration": 0.540241,
     "end_time": "2024-12-26T20:02:17.678235",
     "exception": false,
     "start_time": "2024-12-26T20:02:17.137994",
     "status": "completed"
    },
    "tags": []
   },
   "outputs": [],
   "source": [
    "%%writefile agent/agent.py\n",
    "from lux.utils import direction_to\n",
    "import numpy as np\n",
    "class Agent():\n",
    "    def __init__(self, player: str, env_cfg) -> None:\n",
    "        self.player = player\n",
    "        self.opp_player = \"player_1\" if self.player == \"player_0\" else \"player_0\"\n",
    "        self.team_id = 0 if self.player == \"player_0\" else 1\n",
    "        self.opp_team_id = 1 if self.team_id == 0 else 0\n",
    "        np.random.seed(0)\n",
    "        self.env_cfg = env_cfg\n",
    "        \n",
    "        self.unit_explore_locations = dict()\n",
    "        self.relic_node_positions = []\n",
    "        self.discovered_relic_nodes_ids = set()\n",
    "\n",
    "    def act(self, step: int, obs, remainingOverageTime: int = 60):\n",
    "        \"\"\"implement this function to decide what actions to send to each available unit. \n",
    "        \n",
    "        step is the current timestep number of the game starting from 0 going up to max_steps_in_match * match_count_per_episode - 1.\n",
    "        \"\"\"\n",
    "        unit_mask = np.array(obs[\"units_mask\"][self.team_id]) # shape (max_units, )\n",
    "        unit_positions = np.array(obs[\"units\"][\"position\"][self.team_id]) # shape (max_units, 2)\n",
    "        unit_energys = np.array(obs[\"units\"][\"energy\"][self.team_id]) # shape (max_units, 1)\n",
    "        observed_relic_node_positions = np.array(obs[\"relic_nodes\"]) # shape (max_relic_nodes, 2)\n",
    "        observed_relic_nodes_mask = np.array(obs[\"relic_nodes_mask\"]) # shape (max_relic_nodes, )\n",
    "        team_points = np.array(obs[\"team_points\"]) # points of each team, team_points[self.team_id] is the points of the your team\n",
    "        # ids of units you can control at this timestep\n",
    "        available_unit_ids = np.where(unit_mask)[0]\n",
    "        actions = np.zeros((self.env_cfg[\"max_units\"], 3), dtype=int)\n",
    "\n",
    "\n",
    "        # visible relic nodes\n",
    "        visible_relic_node_ids = set(np.where(observed_relic_nodes_mask)[0])\n",
    "        # save any new relic nodes that we discover for the rest of the game.\n",
    "        for id in visible_relic_node_ids:\n",
    "            if id not in self.discovered_relic_nodes_ids:\n",
    "                self.discovered_relic_nodes_ids.add(id)\n",
    "                self.relic_node_positions.append(observed_relic_node_positions[id])\n",
    "\n",
    "        # unit ids range from 0 to max_units - 1\n",
    "        for unit_id in available_unit_ids:\n",
    "            unit_pos = unit_positions[unit_id]\n",
    "            # if we found at least one relic node\n",
    "            if len(self.relic_node_positions) > 0:\n",
    "                nearest_relic_node_position = self.relic_node_positions[0]\n",
    "                manhattan_distance = abs(unit_pos[0] - nearest_relic_node_position[0]) + abs(unit_pos[1] - nearest_relic_node_position[1])\n",
    "                \n",
    "                # if close to the relic node we want to move randomly around it and hope to gain points\n",
    "                if manhattan_distance <= 4:\n",
    "                    random_direction = np.random.randint(0, 5)\n",
    "                    actions[unit_id] = [random_direction, 0, 0]\n",
    "                else:\n",
    "                    # otherwise we want to move towards the relic node\n",
    "                    actions[unit_id] = [direction_to(unit_pos, nearest_relic_node_position), 0, 0]\n",
    "            # every 20 steps or if a unit doesn't have an assigned location to explore\n",
    "            else:\n",
    "                if step % 20 == 0 or unit_id not in self.unit_explore_locations:\n",
    "                    # pick a random location on the map for the unit to explore\n",
    "                    rand_loc = (np.random.randint(0, self.env_cfg[\"map_width\"]), np.random.randint(0, self.env_cfg[\"map_height\"]))\n",
    "                    self.unit_explore_locations[unit_id] = rand_loc\n",
    "                # using the direction_to tool we can generate a direction that makes the unit move to the saved location\n",
    "                # note that the first index of each unit's action represents the type of action. See specs for more details\n",
    "                actions[unit_id] = [direction_to(unit_pos, self.unit_explore_locations[unit_id]), 0, 0]\n",
    "        return actions"
   ]
  },
  {
   "cell_type": "code",
   "execution_count": null,
   "id": "b30d84fa",
   "metadata": {
    "papermill": {
     "duration": 0.8278,
     "end_time": "2024-12-26T20:02:19.033739",
     "exception": false,
     "start_time": "2024-12-26T20:02:18.205939",
     "status": "completed"
    },
    "tags": []
   },
   "outputs": [],
   "source": [
    "!cd agent && tar -czf submission.tar.gz *\n",
    "!mv agent/submission.tar.gz ."
   ]
  },
  {
   "cell_type": "markdown",
   "id": "09cf03f3",
   "metadata": {
    "papermill": {
     "duration": 0.597673,
     "end_time": "2024-12-26T20:02:20.175097",
     "exception": false,
     "start_time": "2024-12-26T20:02:19.577424",
     "status": "completed"
    },
    "tags": []
   },
   "source": [
    "## Submit\n",
    "Now open the /kaggle/working folder and find submission.tar.gz, download that file, navigate to the \"MySubmissions\" tab in https://www.kaggle.com/competitions/lux-ai-season-3/submissions and upload your submission! It should play a validation match against itself and once it succeeds it will be automatically matched against other players' submissions. Newer submissions will be prioritized for games over older ones. Your team is limited in the number of successful submissions per day so we highly recommend testing your bot locally before submitting."
   ]
  },
  {
   "cell_type": "markdown",
   "id": "3ac912e3",
   "metadata": {
    "papermill": {
     "duration": 0.549973,
     "end_time": "2024-12-26T20:02:21.335746",
     "exception": false,
     "start_time": "2024-12-26T20:02:20.785773",
     "status": "completed"
    },
    "tags": []
   },
   "source": [
    "## CLI Tool\n",
    "\n",
    "To test your agent without using the python API you can also run"
   ]
  },
  {
   "cell_type": "code",
   "execution_count": null,
   "id": "5105e0ab",
   "metadata": {
    "papermill": {
     "duration": 18.68863,
     "end_time": "2024-12-26T20:02:40.551737",
     "exception": false,
     "start_time": "2024-12-26T20:02:21.863107",
     "status": "completed"
    },
    "tags": []
   },
   "outputs": [],
   "source": [
    "!luxai-s3 agent/main.py agent/main.py --seed 101 -o replay.html"
   ]
  },
  {
   "cell_type": "markdown",
   "id": "a3041b67",
   "metadata": {
    "papermill": {
     "duration": 0.534292,
     "end_time": "2024-12-26T20:02:41.624793",
     "exception": false,
     "start_time": "2024-12-26T20:02:41.090501",
     "status": "completed"
    },
    "tags": []
   },
   "source": [
    "which uses a seed of 101 and generates a replay.html file that you can click and watch. Optionally if you specify `-o replay.json` you can upload replay.json to http://s3vis.lux-ai.org/. We **highly recommend** watching on a separate window instead of watching here on a notebook as the notebook screen width is quite small.\n",
    "\n",
    "The CLI tool enables you to easily run episodes between any two agents (python or not) and provides a flexible tournament running tool to evaluate many agents together. Documentation on this tool can be found here: https://github.com/Lux-AI-Challenge/Lux-Design-S3/tree/main/luxai_runner/README.md"
   ]
  }
 ],
 "metadata": {
  "kaggle": {
   "accelerator": "none",
   "dataSources": [
    {
     "databundleVersionId": 10395677,
     "sourceId": 86411,
     "sourceType": "competition"
    }
   ],
   "isGpuEnabled": false,
   "isInternetEnabled": true,
   "language": "python",
   "sourceType": "notebook"
  },
  "kernelspec": {
   "display_name": "Python 3 (ipykernel)",
   "language": "python",
   "name": "python3"
  },
  "language_info": {
   "codemirror_mode": {
    "name": "ipython",
    "version": 3
   },
   "file_extension": ".py",
   "mimetype": "text/x-python",
   "name": "python",
   "nbconvert_exporter": "python",
   "pygments_lexer": "ipython3",
   "version": "3.12.8"
  },
  "papermill": {
   "default_parameters": {},
   "duration": 143.048125,
   "end_time": "2024-12-26T20:02:43.573801",
   "environment_variables": {},
   "exception": null,
   "input_path": "__notebook__.ipynb",
   "output_path": "__notebook__.ipynb",
   "parameters": {},
   "start_time": "2024-12-26T20:00:20.525676",
   "version": "2.6.0"
  }
 },
 "nbformat": 4,
 "nbformat_minor": 5
}
