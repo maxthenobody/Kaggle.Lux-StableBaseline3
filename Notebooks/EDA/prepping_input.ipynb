{
 "cells": [
  {
   "cell_type": "code",
   "execution_count": 1,
   "id": "2bd07391-bfe8-492c-ab2d-929a0b580473",
   "metadata": {
    "scrolled": true
   },
   "outputs": [
    {
     "name": "stdout",
     "output_type": "stream",
     "text": [
      "Looking in indexes: https://pypi.org/simple, https://pypi.ngc.nvidia.com\n",
      "Requirement already satisfied: luxai-s3 in /home/max1024/venvs/lux/lib/python3.12/site-packages (0.2.1)\n",
      "Requirement already satisfied: jax in /home/max1024/venvs/lux/lib/python3.12/site-packages (from luxai-s3) (0.5.0)\n",
      "Requirement already satisfied: gymnax==0.0.8 in /home/max1024/venvs/lux/lib/python3.12/site-packages (from luxai-s3) (0.0.8)\n",
      "Requirement already satisfied: tyro in /home/max1024/venvs/lux/lib/python3.12/site-packages (from luxai-s3) (0.9.13)\n",
      "Requirement already satisfied: jaxlib in /home/max1024/venvs/lux/lib/python3.12/site-packages (from gymnax==0.0.8->luxai-s3) (0.5.0)\n",
      "Requirement already satisfied: chex in /home/max1024/venvs/lux/lib/python3.12/site-packages (from gymnax==0.0.8->luxai-s3) (0.1.88)\n",
      "Requirement already satisfied: flax in /home/max1024/venvs/lux/lib/python3.12/site-packages (from gymnax==0.0.8->luxai-s3) (0.10.2)\n",
      "Requirement already satisfied: pyyaml in /home/max1024/venvs/lux/lib/python3.12/site-packages (from gymnax==0.0.8->luxai-s3) (6.0.2)\n",
      "Requirement already satisfied: gym>=0.26 in /home/max1024/venvs/lux/lib/python3.12/site-packages (from gymnax==0.0.8->luxai-s3) (0.26.2)\n",
      "Requirement already satisfied: gymnasium in /home/max1024/venvs/lux/lib/python3.12/site-packages (from gymnax==0.0.8->luxai-s3) (1.0.0)\n",
      "Requirement already satisfied: matplotlib in /home/max1024/venvs/lux/lib/python3.12/site-packages (from gymnax==0.0.8->luxai-s3) (3.10.0)\n",
      "Requirement already satisfied: seaborn in /home/max1024/venvs/lux/lib/python3.12/site-packages (from gymnax==0.0.8->luxai-s3) (0.13.2)\n",
      "Requirement already satisfied: ml_dtypes>=0.4.0 in /home/max1024/venvs/lux/lib/python3.12/site-packages (from jax->luxai-s3) (0.5.1)\n",
      "Requirement already satisfied: numpy>=1.25 in /home/max1024/venvs/lux/lib/python3.12/site-packages (from jax->luxai-s3) (1.26.4)\n",
      "Requirement already satisfied: opt_einsum in /home/max1024/venvs/lux/lib/python3.12/site-packages (from jax->luxai-s3) (3.4.0)\n",
      "Requirement already satisfied: scipy>=1.11.1 in /home/max1024/venvs/lux/lib/python3.12/site-packages (from jax->luxai-s3) (1.15.1)\n",
      "Requirement already satisfied: docstring-parser>=0.15 in /home/max1024/venvs/lux/lib/python3.12/site-packages (from tyro->luxai-s3) (0.16)\n",
      "Requirement already satisfied: rich>=11.1.0 in /home/max1024/venvs/lux/lib/python3.12/site-packages (from tyro->luxai-s3) (13.9.4)\n",
      "Requirement already satisfied: shtab>=1.5.6 in /home/max1024/venvs/lux/lib/python3.12/site-packages (from tyro->luxai-s3) (1.7.1)\n",
      "Requirement already satisfied: typeguard>=4.0.0 in /home/max1024/venvs/lux/lib/python3.12/site-packages (from tyro->luxai-s3) (4.4.1)\n",
      "Requirement already satisfied: typing-extensions>=4.9.0 in /home/max1024/venvs/lux/lib/python3.12/site-packages (from tyro->luxai-s3) (4.12.2)\n",
      "Requirement already satisfied: cloudpickle>=1.2.0 in /home/max1024/venvs/lux/lib/python3.12/site-packages (from gym>=0.26->gymnax==0.0.8->luxai-s3) (3.1.1)\n",
      "Requirement already satisfied: gym_notices>=0.0.4 in /home/max1024/venvs/lux/lib/python3.12/site-packages (from gym>=0.26->gymnax==0.0.8->luxai-s3) (0.0.8)\n",
      "Requirement already satisfied: markdown-it-py>=2.2.0 in /home/max1024/venvs/lux/lib/python3.12/site-packages (from rich>=11.1.0->tyro->luxai-s3) (3.0.0)\n",
      "Requirement already satisfied: pygments<3.0.0,>=2.13.0 in /home/max1024/venvs/lux/lib/python3.12/site-packages (from rich>=11.1.0->tyro->luxai-s3) (2.19.1)\n",
      "Requirement already satisfied: absl-py>=0.9.0 in /home/max1024/venvs/lux/lib/python3.12/site-packages (from chex->gymnax==0.0.8->luxai-s3) (2.1.0)\n",
      "Requirement already satisfied: setuptools in /home/max1024/venvs/lux/lib/python3.12/site-packages (from chex->gymnax==0.0.8->luxai-s3) (75.8.0)\n",
      "Requirement already satisfied: toolz>=0.9.0 in /home/max1024/venvs/lux/lib/python3.12/site-packages (from chex->gymnax==0.0.8->luxai-s3) (1.0.0)\n",
      "Requirement already satisfied: msgpack in /home/max1024/venvs/lux/lib/python3.12/site-packages (from flax->gymnax==0.0.8->luxai-s3) (1.1.0)\n",
      "Requirement already satisfied: optax in /home/max1024/venvs/lux/lib/python3.12/site-packages (from flax->gymnax==0.0.8->luxai-s3) (0.2.4)\n",
      "Requirement already satisfied: orbax-checkpoint in /home/max1024/venvs/lux/lib/python3.12/site-packages (from flax->gymnax==0.0.8->luxai-s3) (0.11.4)\n",
      "Requirement already satisfied: tensorstore in /home/max1024/venvs/lux/lib/python3.12/site-packages (from flax->gymnax==0.0.8->luxai-s3) (0.1.71)\n",
      "Requirement already satisfied: farama-notifications>=0.0.1 in /home/max1024/venvs/lux/lib/python3.12/site-packages (from gymnasium->gymnax==0.0.8->luxai-s3) (0.0.4)\n",
      "Requirement already satisfied: contourpy>=1.0.1 in /home/max1024/venvs/lux/lib/python3.12/site-packages (from matplotlib->gymnax==0.0.8->luxai-s3) (1.3.1)\n",
      "Requirement already satisfied: cycler>=0.10 in /home/max1024/venvs/lux/lib/python3.12/site-packages (from matplotlib->gymnax==0.0.8->luxai-s3) (0.12.1)\n",
      "Requirement already satisfied: fonttools>=4.22.0 in /home/max1024/venvs/lux/lib/python3.12/site-packages (from matplotlib->gymnax==0.0.8->luxai-s3) (4.56.0)\n",
      "Requirement already satisfied: kiwisolver>=1.3.1 in /home/max1024/venvs/lux/lib/python3.12/site-packages (from matplotlib->gymnax==0.0.8->luxai-s3) (1.4.8)\n",
      "Requirement already satisfied: packaging>=20.0 in /home/max1024/venvs/lux/lib/python3.12/site-packages (from matplotlib->gymnax==0.0.8->luxai-s3) (24.2)\n",
      "Requirement already satisfied: pillow>=8 in /home/max1024/venvs/lux/lib/python3.12/site-packages (from matplotlib->gymnax==0.0.8->luxai-s3) (10.3.0)\n",
      "Requirement already satisfied: pyparsing>=2.3.1 in /home/max1024/venvs/lux/lib/python3.12/site-packages (from matplotlib->gymnax==0.0.8->luxai-s3) (3.2.1)\n",
      "Requirement already satisfied: python-dateutil>=2.7 in /home/max1024/venvs/lux/lib/python3.12/site-packages (from matplotlib->gymnax==0.0.8->luxai-s3) (2.9.0.post0)\n",
      "Requirement already satisfied: pandas>=1.2 in /home/max1024/venvs/lux/lib/python3.12/site-packages (from seaborn->gymnax==0.0.8->luxai-s3) (2.2.3)\n",
      "Requirement already satisfied: mdurl~=0.1 in /home/max1024/venvs/lux/lib/python3.12/site-packages (from markdown-it-py>=2.2.0->rich>=11.1.0->tyro->luxai-s3) (0.1.2)\n",
      "Requirement already satisfied: pytz>=2020.1 in /home/max1024/venvs/lux/lib/python3.12/site-packages (from pandas>=1.2->seaborn->gymnax==0.0.8->luxai-s3) (2025.1)\n",
      "Requirement already satisfied: tzdata>=2022.7 in /home/max1024/venvs/lux/lib/python3.12/site-packages (from pandas>=1.2->seaborn->gymnax==0.0.8->luxai-s3) (2025.1)\n",
      "Requirement already satisfied: six>=1.5 in /home/max1024/venvs/lux/lib/python3.12/site-packages (from python-dateutil>=2.7->matplotlib->gymnax==0.0.8->luxai-s3) (1.17.0)\n",
      "Requirement already satisfied: etils[epy] in /home/max1024/venvs/lux/lib/python3.12/site-packages (from optax->flax->gymnax==0.0.8->luxai-s3) (1.11.0)\n",
      "Requirement already satisfied: nest_asyncio in /home/max1024/venvs/lux/lib/python3.12/site-packages (from orbax-checkpoint->flax->gymnax==0.0.8->luxai-s3) (1.6.0)\n",
      "Requirement already satisfied: protobuf in /home/max1024/venvs/lux/lib/python3.12/site-packages (from orbax-checkpoint->flax->gymnax==0.0.8->luxai-s3) (5.29.3)\n",
      "Requirement already satisfied: humanize in /home/max1024/venvs/lux/lib/python3.12/site-packages (from orbax-checkpoint->flax->gymnax==0.0.8->luxai-s3) (4.11.0)\n",
      "Requirement already satisfied: simplejson>=3.16.0 in /home/max1024/venvs/lux/lib/python3.12/site-packages (from orbax-checkpoint->flax->gymnax==0.0.8->luxai-s3) (3.19.3)\n",
      "Requirement already satisfied: fsspec in /home/max1024/venvs/lux/lib/python3.12/site-packages (from etils[epath,epy]->orbax-checkpoint->flax->gymnax==0.0.8->luxai-s3) (2024.9.0)\n",
      "Requirement already satisfied: importlib_resources in /home/max1024/venvs/lux/lib/python3.12/site-packages (from etils[epath,epy]->orbax-checkpoint->flax->gymnax==0.0.8->luxai-s3) (6.5.2)\n",
      "Requirement already satisfied: zipp in /home/max1024/venvs/lux/lib/python3.12/site-packages (from etils[epath,epy]->orbax-checkpoint->flax->gymnax==0.0.8->luxai-s3) (3.21.0)\n"
     ]
    }
   ],
   "source": [
    "!pip install --upgrade luxai-s3"
   ]
  },
  {
   "cell_type": "code",
   "execution_count": 2,
   "id": "cf5c9c91-32e0-4300-aa89-7faa68aa4380",
   "metadata": {},
   "outputs": [],
   "source": [
    "from luxai_s3.wrappers import LuxAIS3GymEnv, RecordEpisode\n",
    "import numpy as np\n",
    "\n",
    "np.set_printoptions(linewidth=200)"
   ]
  },
  {
   "cell_type": "code",
   "execution_count": 3,
   "id": "719cc45a-6840-4fd0-96c2-86d2d9dcab52",
   "metadata": {},
   "outputs": [],
   "source": [
    "env = RecordEpisode(\n",
    "    LuxAIS3GymEnv(numpy_output=True)\n",
    ")"
   ]
  },
  {
   "cell_type": "code",
   "execution_count": 4,
   "id": "a29eca07-5c7c-4e7f-b25d-8b6ff5f58cc4",
   "metadata": {},
   "outputs": [
    {
     "data": {
      "text/plain": [
       "luxai_s3.wrappers.RecordEpisode"
      ]
     },
     "execution_count": 4,
     "metadata": {},
     "output_type": "execute_result"
    }
   ],
   "source": [
    "type(env)"
   ]
  },
  {
   "cell_type": "code",
   "execution_count": 5,
   "id": "e9bf5fd6-671b-448a-8b08-062b9b7d241a",
   "metadata": {},
   "outputs": [],
   "source": [
    "obs_all, info = env.reset()"
   ]
  },
  {
   "cell_type": "code",
   "execution_count": 6,
   "id": "98bd0646-9083-4600-a321-1f505d7850dd",
   "metadata": {},
   "outputs": [],
   "source": [
    "env_cfg = info['params']"
   ]
  },
  {
   "cell_type": "code",
   "execution_count": 7,
   "id": "53dbaa03-2276-4f0c-b715-75511cd221ff",
   "metadata": {},
   "outputs": [],
   "source": [
    "obs = obs_all['player_0']"
   ]
  },
  {
   "cell_type": "code",
   "execution_count": 8,
   "id": "205963f0-9c39-47fd-b012-d4bdd8b2f14e",
   "metadata": {},
   "outputs": [
    {
     "data": {
      "text/plain": [
       "dict_keys(['max_units', 'match_count_per_episode', 'max_steps_in_match', 'map_height', 'map_width', 'num_teams', 'unit_move_cost', 'unit_sap_cost', 'unit_sap_range', 'unit_sensor_range'])"
      ]
     },
     "execution_count": 8,
     "metadata": {},
     "output_type": "execute_result"
    }
   ],
   "source": [
    "env_cfg.keys()"
   ]
  },
  {
   "cell_type": "code",
   "execution_count": 9,
   "id": "b90ed063-a1b9-4353-9b08-ddc2b6670151",
   "metadata": {},
   "outputs": [
    {
     "data": {
      "text/plain": [
       "dict_keys(['units', 'units_mask', 'sensor_mask', 'map_features', 'relic_nodes', 'relic_nodes_mask', 'team_points', 'team_wins', 'steps', 'match_steps'])"
      ]
     },
     "execution_count": 9,
     "metadata": {},
     "output_type": "execute_result"
    }
   ],
   "source": [
    "obs.keys()"
   ]
  },
  {
   "cell_type": "code",
   "execution_count": 10,
   "id": "ac10fc72-e854-4c80-9b53-ad42715423bf",
   "metadata": {},
   "outputs": [],
   "source": [
    "def find_opposite_corner_coords(array, row, col):\n",
    "    \"\"\"\n",
    "    Given a 2D array and a coordinate (row, col), this function returns the opposite corner coordinates.\n",
    "\n",
    "    :param array: 2D list or NumPy array\n",
    "    :param row: Row index of the given point\n",
    "    :param col: Column index of the given point\n",
    "    :return: (row', col') - Opposite corner coordinates\n",
    "    \"\"\"\n",
    "    num_rows = len(array)\n",
    "    num_cols = len(array[0]) if num_rows > 0 else 0\n",
    "\n",
    "    # Opposite coordinates\n",
    "    opp_row = num_rows - 1 - row\n",
    "    opp_col = num_cols - 1 - col\n",
    "\n",
    "    return (opp_row, opp_col)"
   ]
  },
  {
   "cell_type": "code",
   "execution_count": 11,
   "id": "bd6aa43d-2931-4d00-a039-285a929cbdc8",
   "metadata": {},
   "outputs": [],
   "source": [
    "def prep_llm_input(env_cfg, obs):\n",
    "\n",
    "    ### env_cfg information\n",
    "    max_units = f\"Maximum possible number of units: {env_cfg['max_units']}.\"\n",
    "    match_count_per_episode = f\"Number of matches per game: {env_cfg['match_count_per_episode']}.\"\n",
    "    max_steps_in_match = f\"Number of steps per match: {env_cfg['max_steps_in_match']}.\"\n",
    "    map_height = f\"Map height: {env_cfg['map_height']}.\"\n",
    "    map_width = f\"Map width: {env_cfg['map_width']}.\"\n",
    "    num_teams = f\"Number of teams: {env_cfg['num_teams']}.\"\n",
    "    unit_move_cost = f\"Unit move energy cost: {env_cfg['unit_move_cost']}.\"\n",
    "    unit_sap_cost = f\"Unit sap energy cost: {env_cfg['unit_sap_cost']}.\"\n",
    "    unit_sap_range = f\"Unit sap range: {env_cfg['unit_sap_range']}.\"\n",
    "    unit_sensor_range = f\"Unit sensor range: {env_cfg['unit_sensor_range']}.\"\n",
    "\n",
    "    ### obs information\n",
    "    unit_position_warning = \"Unit position: -1, -1 means the unit is not spawned yet or not visible.\"\n",
    "\n",
    "    # unit positions\n",
    "    obs_my_unit_positions = obs['units']['position'][self.team_id]\n",
    "    my_unit_positions_list = []\n",
    "    for i in range(my_unit_positions.shape[0]):\n",
    "        pos = my_unit_positions[i]\n",
    "        my_unit_positions_list.append(f\"My unit {i} position: {pos[0]}, {pos[1]}.\")\n",
    "    my_unit_positions = \" \".join(my_unit_positions_list)\n",
    "\n",
    "    obs_enemy_unit_positions = obs['units']['position'][self.opp_team_id]\n",
    "    enemy_unit_positions_list = []\n",
    "    for i in range(enemy_unit_positions.shape[0]):\n",
    "        pos = enemy_unit_positions[i]\n",
    "        enemy_unit_positions_list.append(f\"Enemy unit {i} position: {pos[0]}, {pos[1]}.\")\n",
    "    enemy_unit_positions = \" \".join(enemy_unit_positions_list)\n",
    "\n",
    "    # unit energys\n",
    "    obs_my_unit_energys = obs['units']['energy'][self.team_id]\n",
    "    my_unit_energys_list = []\n",
    "    for i in range(obs_my_unit_energys.shape[0]):\n",
    "        energy = obs_my_unit_energys[i]\n",
    "        my_unit_energys_list.append(f\"My unit {i} energy: {energy}.\")\n",
    "    my_unit_energys = \" \".join(my_unit_energys_list)\n",
    "\n",
    "    obs_enemy_unit_energys = obs['units']['energy'][self.opp_team_id]\n",
    "    enemy_unit_energys_list = []\n",
    "    for i in range(obs_enemy_unit_energys.shape[0]):\n",
    "        energy = obs_enemy_unit_energys[i]\n",
    "        enemy_unit_energys_list.append(f\"Enemy unit {i} energy: {energy}.\")\n",
    "    enemy_unit_energys = \" \".join(enemy_unit_energys_list)\n",
    "\n",
    "    # unit masks\n",
    "    obs_my_units_mask = obs['units_mask'][self.team_id]\n",
    "    my_units_mask_list = []\n",
    "    for i in range(obs_my_units_mask.shape[0]):\n",
    "        mask = obs_my_units_mask[i]\n",
    "        my_units_mask_list.append(f\"My unit {i} visibility: {mask}.\")\n",
    "    my_units_mask = \" \".join(my_units_mask_list)\n",
    "\n",
    "    obs_enemy_units_mask = obs['units_mask'][self.opp_team_id]\n",
    "    enemy_units_mask_list = []\n",
    "    for i in range(obs_enemy_units_mask.shape[0]):\n",
    "        mask = obs_enemy_units_mask[i]\n",
    "        enemy_units_mask_list.append(f\"Enemy unit {i} visibility: {mask}.\")\n",
    "    enemy_units_mask = \" \".join(enemy_units_mask_list)\n",
    "\n",
    "    # sensor mask\n",
    "    obs_sensor_mask = obs['sensor_mask']\n",
    "    sensor_mask_list = []\n",
    "    for i in range(obs_sensor_mask.shape[0]):\n",
    "        sensor_mask_list.append(f\"Sensor mask row {i}: {str(obs_sensor_mask[i]).replace(\"[\", \"\").replace(\"]\", \"\")}.\")\n",
    "    sensor_mask = \" \".join(sensor_mask_list)\n",
    "\n",
    "    # map features - energy\n",
    "    obs_map_features_energy = obs['map_features']['energy']\n",
    "    map_features_energy_list = []\n",
    "    for i in range(obs_map_features_energy.shape[0]):\n",
    "        map_features_energy_list.append(f\"Map energy row {i}: {str(obs_map_features_energy[i]).replace(\"[\", \"\").replace(\"]\", \"\")}.\")\n",
    "    map_features_energy = \" \".join(map_features_energy_list)\n",
    "\n",
    "    # map features - tile_type\n",
    "    obs_map_features_tile_type = obs['map_features']['tile_type']\n",
    "    map_features_tile_type_list = []\n",
    "    for i in range(obs_map_features_tile_type.shape[0]):\n",
    "        map_features_tile_type_list.append(f\"Map node type row {i}: {str(obs_map_features_tile_type[i]).replace(\"[\", \"\").replace(\"]\", \"\")}.\")\n",
    "    map_features_tile_type = \" \".join(map_features_tile_type_list)\n",
    "\n",
    "    # relic nodes\n",
    "    relic_node_warning = \"Relic node position: -1, -1 means the relic node is not yet discoverd.\"\n",
    "    obs_relic_nodes = obs['relic_nodes']\n",
    "    relic_nodes_list = []\n",
    "    for i in range(obs_relic_nodes.shape[0]):\n",
    "        relic_nodes_list.append(f\"Relic node {i} position: {obs_relic_nodes[i][0]}, {obs_relic_nodes[i][1]}.\")\n",
    "    relic_nodes = \" \".join(relic_nodes_list)\n",
    "\n",
    "    # relic nodes mask\n",
    "    obs_relic_nodes_mask = obs['relic_nodes_mask']\n",
    "    relic_nodes_mask_list = []\n",
    "    for i in range(obs_relic_nodes_mask.shape[0]):\n",
    "        relic_nodes_mask_list.append(f\"Relic node {i} visibility: {obs_relic_nodes_mask[i]}.\")\n",
    "    relic_nodes_mask = \" \".join(relic_nodes_mask_list)\n",
    "\n",
    "    # team points\n",
    "    my_team_points = f\"My current point for this match is: {obs['team_points'][self.team_id]}.\"\n",
    "    enemy_team_points = f\"Enemy current point for this match is: {obs['team_points'][self.opp_team_id]}.\"\n",
    "\n",
    "    # team wins\n",
    "    my_team_wins = f\"I have won {obs['team_wins'][self.team_id]} matches.\"\n",
    "    enemy_team_wins = f\"Enemy has won {obs['team_wins'][self.opp_team_id]} matches.\"\n",
    "\n",
    "    # steps\n",
    "    steps = f\"This is step {obs['steps']} of the game.\"\n",
    "\n",
    "    # match_steps\n",
    "    match_steps = f\"This is step {obs['match_steps']} of the match.\"\n",
    "\n",
    "    '''\n",
    "    # SET THESE AT AGENT INIT\n",
    "    self.my_spawn_location = None\n",
    "    self.enemy_spawn_location = None\n",
    "    self.first_spawn = False\n",
    "\n",
    "    # SET THESE AT AGENT ACTION\n",
    "    if available_unit_ids.shape[0] == 0:\n",
    "        pass\n",
    "    else:\n",
    "        if self.first_spawn == False:\n",
    "            first_unit_id = available_unit_ids[0]\n",
    "            first_unit_pos = unit_positions[first_unit_id]\n",
    "            self.my_spawn_location = (first_unit_pos[0], first_unit_pos[1])\n",
    "            self.enemy_spawn_location = find_opposite_corner_coords(, first_unit_pos[0], first_unit_pos[1])\n",
    "            self.first_spawn = True\n",
    "    '''\n",
    "    \n",
    "    all_variables = \" \".join([\n",
    "        max_units, match_count_per_episode, max_steps_in_match, map_height, map_width, num_teams, unit_move_cost, unit_sap_cost, unit_sap_range, unit_sensor_range, unit_position_warning, my_unit_positions,\n",
    "        enemy_unit_positions, my_unit_energys, enemy_unit_energys, my_units_mask, enemy_units_mask, sensor_mask, map_features_energy, map_features_tile_type, relic_nodes, relic_nodes_mask,\n",
    "        my_team_points, enemy_team_points, my_team_wins, enemy_team_wins, steps, match_steps\n",
    "    ])\n",
    "\n",
    "    return all_variables"
   ]
  },
  {
   "cell_type": "code",
   "execution_count": 12,
   "id": "2facd7f1-36c8-4d8a-9bc4-795b314eae06",
   "metadata": {},
   "outputs": [
    {
     "ename": "NameError",
     "evalue": "name 'self' is not defined",
     "output_type": "error",
     "traceback": [
      "\u001b[0;31m---------------------------------------------------------------------------\u001b[0m",
      "\u001b[0;31mNameError\u001b[0m                                 Traceback (most recent call last)",
      "Cell \u001b[0;32mIn[12], line 1\u001b[0m\n\u001b[0;32m----> 1\u001b[0m llm_input \u001b[38;5;241m=\u001b[39m \u001b[43mprep_llm_input\u001b[49m\u001b[43m(\u001b[49m\u001b[43menv_cfg\u001b[49m\u001b[43m,\u001b[49m\u001b[43m \u001b[49m\u001b[43mobs\u001b[49m\u001b[43m)\u001b[49m\n",
      "Cell \u001b[0;32mIn[11], line 19\u001b[0m, in \u001b[0;36mprep_llm_input\u001b[0;34m(env_cfg, obs)\u001b[0m\n\u001b[1;32m     16\u001b[0m unit_position_warning \u001b[38;5;241m=\u001b[39m \u001b[38;5;124m\"\u001b[39m\u001b[38;5;124mUnit position: -1, -1 means the unit is not spawned yet or not visible.\u001b[39m\u001b[38;5;124m\"\u001b[39m\n\u001b[1;32m     18\u001b[0m \u001b[38;5;66;03m# unit positions\u001b[39;00m\n\u001b[0;32m---> 19\u001b[0m obs_my_unit_positions \u001b[38;5;241m=\u001b[39m obs[\u001b[38;5;124m'\u001b[39m\u001b[38;5;124munits\u001b[39m\u001b[38;5;124m'\u001b[39m][\u001b[38;5;124m'\u001b[39m\u001b[38;5;124mposition\u001b[39m\u001b[38;5;124m'\u001b[39m][\u001b[38;5;28;43mself\u001b[39;49m\u001b[38;5;241m.\u001b[39mteam_id]\n\u001b[1;32m     20\u001b[0m my_unit_positions_list \u001b[38;5;241m=\u001b[39m []\n\u001b[1;32m     21\u001b[0m \u001b[38;5;28;01mfor\u001b[39;00m i \u001b[38;5;129;01min\u001b[39;00m \u001b[38;5;28mrange\u001b[39m(my_unit_positions\u001b[38;5;241m.\u001b[39mshape[\u001b[38;5;241m0\u001b[39m]):\n",
      "\u001b[0;31mNameError\u001b[0m: name 'self' is not defined"
     ]
    }
   ],
   "source": [
    "llm_input = prep_llm_input(env_cfg, obs)"
   ]
  },
  {
   "cell_type": "code",
   "execution_count": null,
   "id": "07295789-d4bf-4653-91ed-d2f2ac90f380",
   "metadata": {},
   "outputs": [],
   "source": []
  }
 ],
 "metadata": {
  "kaggle": {
   "accelerator": "none",
   "dataSources": [
    {
     "databundleVersionId": 10395677,
     "sourceId": 86411,
     "sourceType": "competition"
    }
   ],
   "isGpuEnabled": false,
   "isInternetEnabled": true,
   "language": "python",
   "sourceType": "notebook"
  },
  "kernelspec": {
   "display_name": "Python 3 (ipykernel)",
   "language": "python",
   "name": "python3"
  },
  "language_info": {
   "codemirror_mode": {
    "name": "ipython",
    "version": 3
   },
   "file_extension": ".py",
   "mimetype": "text/x-python",
   "name": "python",
   "nbconvert_exporter": "python",
   "pygments_lexer": "ipython3",
   "version": "3.12.8"
  },
  "papermill": {
   "default_parameters": {},
   "duration": 143.048125,
   "end_time": "2024-12-26T20:02:43.573801",
   "environment_variables": {},
   "exception": null,
   "input_path": "__notebook__.ipynb",
   "output_path": "__notebook__.ipynb",
   "parameters": {},
   "start_time": "2024-12-26T20:00:20.525676",
   "version": "2.6.0"
  }
 },
 "nbformat": 4,
 "nbformat_minor": 5
}
