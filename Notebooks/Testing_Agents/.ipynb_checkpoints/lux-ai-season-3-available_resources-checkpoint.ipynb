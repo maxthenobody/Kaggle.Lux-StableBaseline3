{
 "cells": [
  {
   "cell_type": "code",
   "execution_count": 1,
   "id": "2bd07391-bfe8-492c-ab2d-929a0b580473",
   "metadata": {
    "scrolled": true
   },
   "outputs": [
    {
     "name": "stdout",
     "output_type": "stream",
     "text": [
      "Requirement already satisfied: luxai-s3 in /home/max1024/venvs/lux/lib/python3.12/site-packages (0.2.1)\n",
      "Requirement already satisfied: jax in /home/max1024/venvs/lux/lib/python3.12/site-packages (from luxai-s3) (0.5.0)\n",
      "Requirement already satisfied: gymnax==0.0.8 in /home/max1024/venvs/lux/lib/python3.12/site-packages (from luxai-s3) (0.0.8)\n",
      "Requirement already satisfied: tyro in /home/max1024/venvs/lux/lib/python3.12/site-packages (from luxai-s3) (0.9.13)\n",
      "Requirement already satisfied: jaxlib in /home/max1024/venvs/lux/lib/python3.12/site-packages (from gymnax==0.0.8->luxai-s3) (0.5.0)\n",
      "Requirement already satisfied: chex in /home/max1024/venvs/lux/lib/python3.12/site-packages (from gymnax==0.0.8->luxai-s3) (0.1.88)\n",
      "Requirement already satisfied: flax in /home/max1024/venvs/lux/lib/python3.12/site-packages (from gymnax==0.0.8->luxai-s3) (0.10.2)\n",
      "Requirement already satisfied: pyyaml in /home/max1024/venvs/lux/lib/python3.12/site-packages (from gymnax==0.0.8->luxai-s3) (6.0.2)\n",
      "Requirement already satisfied: gym>=0.26 in /home/max1024/venvs/lux/lib/python3.12/site-packages (from gymnax==0.0.8->luxai-s3) (0.26.2)\n",
      "Requirement already satisfied: gymnasium in /home/max1024/venvs/lux/lib/python3.12/site-packages (from gymnax==0.0.8->luxai-s3) (1.0.0)\n",
      "Requirement already satisfied: matplotlib in /home/max1024/venvs/lux/lib/python3.12/site-packages (from gymnax==0.0.8->luxai-s3) (3.10.0)\n",
      "Requirement already satisfied: seaborn in /home/max1024/venvs/lux/lib/python3.12/site-packages (from gymnax==0.0.8->luxai-s3) (0.13.2)\n",
      "Requirement already satisfied: ml_dtypes>=0.4.0 in /home/max1024/venvs/lux/lib/python3.12/site-packages (from jax->luxai-s3) (0.5.1)\n",
      "Requirement already satisfied: numpy>=1.25 in /home/max1024/venvs/lux/lib/python3.12/site-packages (from jax->luxai-s3) (2.2.2)\n",
      "Requirement already satisfied: opt_einsum in /home/max1024/venvs/lux/lib/python3.12/site-packages (from jax->luxai-s3) (3.4.0)\n",
      "Requirement already satisfied: scipy>=1.11.1 in /home/max1024/venvs/lux/lib/python3.12/site-packages (from jax->luxai-s3) (1.15.1)\n",
      "Requirement already satisfied: docstring-parser>=0.15 in /home/max1024/venvs/lux/lib/python3.12/site-packages (from tyro->luxai-s3) (0.16)\n",
      "Requirement already satisfied: rich>=11.1.0 in /home/max1024/venvs/lux/lib/python3.12/site-packages (from tyro->luxai-s3) (13.9.4)\n",
      "Requirement already satisfied: shtab>=1.5.6 in /home/max1024/venvs/lux/lib/python3.12/site-packages (from tyro->luxai-s3) (1.7.1)\n",
      "Requirement already satisfied: typeguard>=4.0.0 in /home/max1024/venvs/lux/lib/python3.12/site-packages (from tyro->luxai-s3) (4.4.1)\n",
      "Requirement already satisfied: typing-extensions>=4.9.0 in /home/max1024/venvs/lux/lib/python3.12/site-packages (from tyro->luxai-s3) (4.12.2)\n",
      "Requirement already satisfied: cloudpickle>=1.2.0 in /home/max1024/venvs/lux/lib/python3.12/site-packages (from gym>=0.26->gymnax==0.0.8->luxai-s3) (3.1.1)\n",
      "Requirement already satisfied: gym_notices>=0.0.4 in /home/max1024/venvs/lux/lib/python3.12/site-packages (from gym>=0.26->gymnax==0.0.8->luxai-s3) (0.0.8)\n",
      "Requirement already satisfied: markdown-it-py>=2.2.0 in /home/max1024/venvs/lux/lib/python3.12/site-packages (from rich>=11.1.0->tyro->luxai-s3) (3.0.0)\n",
      "Requirement already satisfied: pygments<3.0.0,>=2.13.0 in /home/max1024/venvs/lux/lib/python3.12/site-packages (from rich>=11.1.0->tyro->luxai-s3) (2.19.1)\n",
      "Requirement already satisfied: absl-py>=0.9.0 in /home/max1024/venvs/lux/lib/python3.12/site-packages (from chex->gymnax==0.0.8->luxai-s3) (2.1.0)\n",
      "Requirement already satisfied: setuptools in /home/max1024/venvs/lux/lib/python3.12/site-packages (from chex->gymnax==0.0.8->luxai-s3) (75.8.0)\n",
      "Requirement already satisfied: toolz>=0.9.0 in /home/max1024/venvs/lux/lib/python3.12/site-packages (from chex->gymnax==0.0.8->luxai-s3) (1.0.0)\n",
      "Requirement already satisfied: msgpack in /home/max1024/venvs/lux/lib/python3.12/site-packages (from flax->gymnax==0.0.8->luxai-s3) (1.1.0)\n",
      "Requirement already satisfied: optax in /home/max1024/venvs/lux/lib/python3.12/site-packages (from flax->gymnax==0.0.8->luxai-s3) (0.2.4)\n",
      "Requirement already satisfied: orbax-checkpoint in /home/max1024/venvs/lux/lib/python3.12/site-packages (from flax->gymnax==0.0.8->luxai-s3) (0.11.2)\n",
      "Requirement already satisfied: tensorstore in /home/max1024/venvs/lux/lib/python3.12/site-packages (from flax->gymnax==0.0.8->luxai-s3) (0.1.71)\n",
      "Requirement already satisfied: farama-notifications>=0.0.1 in /home/max1024/venvs/lux/lib/python3.12/site-packages (from gymnasium->gymnax==0.0.8->luxai-s3) (0.0.4)\n",
      "Requirement already satisfied: contourpy>=1.0.1 in /home/max1024/venvs/lux/lib/python3.12/site-packages (from matplotlib->gymnax==0.0.8->luxai-s3) (1.3.1)\n",
      "Requirement already satisfied: cycler>=0.10 in /home/max1024/venvs/lux/lib/python3.12/site-packages (from matplotlib->gymnax==0.0.8->luxai-s3) (0.12.1)\n",
      "Requirement already satisfied: fonttools>=4.22.0 in /home/max1024/venvs/lux/lib/python3.12/site-packages (from matplotlib->gymnax==0.0.8->luxai-s3) (4.55.8)\n",
      "Requirement already satisfied: kiwisolver>=1.3.1 in /home/max1024/venvs/lux/lib/python3.12/site-packages (from matplotlib->gymnax==0.0.8->luxai-s3) (1.4.8)\n",
      "Requirement already satisfied: packaging>=20.0 in /home/max1024/venvs/lux/lib/python3.12/site-packages (from matplotlib->gymnax==0.0.8->luxai-s3) (24.2)\n",
      "Requirement already satisfied: pillow>=8 in /home/max1024/venvs/lux/lib/python3.12/site-packages (from matplotlib->gymnax==0.0.8->luxai-s3) (11.1.0)\n",
      "Requirement already satisfied: pyparsing>=2.3.1 in /home/max1024/venvs/lux/lib/python3.12/site-packages (from matplotlib->gymnax==0.0.8->luxai-s3) (3.2.1)\n",
      "Requirement already satisfied: python-dateutil>=2.7 in /home/max1024/venvs/lux/lib/python3.12/site-packages (from matplotlib->gymnax==0.0.8->luxai-s3) (2.9.0.post0)\n",
      "Requirement already satisfied: pandas>=1.2 in /home/max1024/venvs/lux/lib/python3.12/site-packages (from seaborn->gymnax==0.0.8->luxai-s3) (2.2.3)\n",
      "Requirement already satisfied: mdurl~=0.1 in /home/max1024/venvs/lux/lib/python3.12/site-packages (from markdown-it-py>=2.2.0->rich>=11.1.0->tyro->luxai-s3) (0.1.2)\n",
      "Requirement already satisfied: pytz>=2020.1 in /home/max1024/venvs/lux/lib/python3.12/site-packages (from pandas>=1.2->seaborn->gymnax==0.0.8->luxai-s3) (2025.1)\n",
      "Requirement already satisfied: tzdata>=2022.7 in /home/max1024/venvs/lux/lib/python3.12/site-packages (from pandas>=1.2->seaborn->gymnax==0.0.8->luxai-s3) (2025.1)\n",
      "Requirement already satisfied: six>=1.5 in /home/max1024/venvs/lux/lib/python3.12/site-packages (from python-dateutil>=2.7->matplotlib->gymnax==0.0.8->luxai-s3) (1.17.0)\n",
      "Requirement already satisfied: etils[epy] in /home/max1024/venvs/lux/lib/python3.12/site-packages (from optax->flax->gymnax==0.0.8->luxai-s3) (1.11.0)\n",
      "Requirement already satisfied: nest_asyncio in /home/max1024/venvs/lux/lib/python3.12/site-packages (from orbax-checkpoint->flax->gymnax==0.0.8->luxai-s3) (1.6.0)\n",
      "Requirement already satisfied: protobuf in /home/max1024/venvs/lux/lib/python3.12/site-packages (from orbax-checkpoint->flax->gymnax==0.0.8->luxai-s3) (5.29.3)\n",
      "Requirement already satisfied: humanize in /home/max1024/venvs/lux/lib/python3.12/site-packages (from orbax-checkpoint->flax->gymnax==0.0.8->luxai-s3) (4.11.0)\n",
      "Requirement already satisfied: simplejson>=3.16.0 in /home/max1024/venvs/lux/lib/python3.12/site-packages (from orbax-checkpoint->flax->gymnax==0.0.8->luxai-s3) (3.19.3)\n",
      "Requirement already satisfied: fsspec in /home/max1024/venvs/lux/lib/python3.12/site-packages (from etils[epath,epy]->orbax-checkpoint->flax->gymnax==0.0.8->luxai-s3) (2025.2.0)\n",
      "Requirement already satisfied: importlib_resources in /home/max1024/venvs/lux/lib/python3.12/site-packages (from etils[epath,epy]->orbax-checkpoint->flax->gymnax==0.0.8->luxai-s3) (6.5.2)\n",
      "Requirement already satisfied: zipp in /home/max1024/venvs/lux/lib/python3.12/site-packages (from etils[epath,epy]->orbax-checkpoint->flax->gymnax==0.0.8->luxai-s3) (3.21.0)\n"
     ]
    }
   ],
   "source": [
    "!pip install --upgrade luxai-s3"
   ]
  },
  {
   "cell_type": "code",
   "execution_count": 2,
   "id": "cf5c9c91-32e0-4300-aa89-7faa68aa4380",
   "metadata": {},
   "outputs": [],
   "source": [
    "from luxai_s3.wrappers import LuxAIS3GymEnv, RecordEpisode"
   ]
  },
  {
   "cell_type": "code",
   "execution_count": 3,
   "id": "68a76efa-d9a2-46d4-a148-f3f8ee802ca0",
   "metadata": {},
   "outputs": [],
   "source": [
    "env = RecordEpisode(\n",
    "    LuxAIS3GymEnv(numpy_output=True), save_on_close=True, save_on_reset=True, save_dir=\"replays\"\n",
    ")"
   ]
  },
  {
   "cell_type": "code",
   "execution_count": 4,
   "id": "bd2681de-3a49-429c-b3d6-918149c950c7",
   "metadata": {},
   "outputs": [],
   "source": [
    "obs, info = env.reset()"
   ]
  },
  {
   "cell_type": "markdown",
   "id": "b2382b14-c8db-47b7-a0e4-8959be1088fc",
   "metadata": {},
   "source": [
    "# obs"
   ]
  },
  {
   "cell_type": "code",
   "execution_count": 5,
   "id": "14ea3a6c-dcb5-487a-986c-fea66c70ef44",
   "metadata": {},
   "outputs": [
    {
     "data": {
      "text/plain": [
       "dict_keys(['player_0', 'player_1'])"
      ]
     },
     "execution_count": 5,
     "metadata": {},
     "output_type": "execute_result"
    }
   ],
   "source": [
    "obs.keys()"
   ]
  },
  {
   "cell_type": "code",
   "execution_count": 6,
   "id": "0626ed20-34d6-4a64-ae05-2d7e7873b5a7",
   "metadata": {},
   "outputs": [
    {
     "data": {
      "text/plain": [
       "dict"
      ]
     },
     "execution_count": 6,
     "metadata": {},
     "output_type": "execute_result"
    }
   ],
   "source": [
    "obs_player_0 = obs['player_0']\n",
    "type(obs_player_0)"
   ]
  },
  {
   "cell_type": "code",
   "execution_count": 7,
   "id": "98ed494b-da27-4a0e-a321-220334be6d9e",
   "metadata": {},
   "outputs": [
    {
     "data": {
      "text/plain": [
       "dict_keys(['units', 'units_mask', 'sensor_mask', 'map_features', 'relic_nodes', 'relic_nodes_mask', 'team_points', 'team_wins', 'steps', 'match_steps'])"
      ]
     },
     "execution_count": 7,
     "metadata": {},
     "output_type": "execute_result"
    }
   ],
   "source": [
    "obs_player_0.keys()"
   ]
  },
  {
   "cell_type": "code",
   "execution_count": 8,
   "id": "f225b58a-3697-4286-a6fd-b069468b154a",
   "metadata": {},
   "outputs": [
    {
     "data": {
      "text/plain": [
       "dict"
      ]
     },
     "execution_count": 8,
     "metadata": {},
     "output_type": "execute_result"
    }
   ],
   "source": [
    "obs_player_0_units = obs_player_0['units']\n",
    "type(obs_player_0_units)"
   ]
  },
  {
   "cell_type": "code",
   "execution_count": 9,
   "id": "7af2ceaa-ed06-44e3-9ada-d7a11c3c6ebd",
   "metadata": {},
   "outputs": [
    {
     "data": {
      "text/plain": [
       "dict_keys(['position', 'energy'])"
      ]
     },
     "execution_count": 9,
     "metadata": {},
     "output_type": "execute_result"
    }
   ],
   "source": [
    "obs_player_0_units.keys()"
   ]
  },
  {
   "cell_type": "code",
   "execution_count": 10,
   "id": "69f5fd70-e011-49b8-9e9f-3f89e031b3cd",
   "metadata": {},
   "outputs": [
    {
     "data": {
      "text/plain": [
       "numpy.ndarray"
      ]
     },
     "execution_count": 10,
     "metadata": {},
     "output_type": "execute_result"
    }
   ],
   "source": [
    "obs_player_0_units_position = obs_player_0_units['position']\n",
    "type(obs_player_0_units_position)"
   ]
  },
  {
   "cell_type": "code",
   "execution_count": 11,
   "id": "e0455e51-bcdb-4b17-b852-8d36b58f22ce",
   "metadata": {},
   "outputs": [
    {
     "data": {
      "text/plain": [
       "(2, 16, 2)"
      ]
     },
     "execution_count": 11,
     "metadata": {},
     "output_type": "execute_result"
    }
   ],
   "source": [
    "obs_player_0_units_position.shape"
   ]
  },
  {
   "cell_type": "code",
   "execution_count": 12,
   "id": "edc5f61e-913a-43e9-bea7-3cc865638fbd",
   "metadata": {},
   "outputs": [
    {
     "data": {
      "text/plain": [
       "array([[[-1, -1],\n",
       "        [-1, -1],\n",
       "        [-1, -1],\n",
       "        [-1, -1],\n",
       "        [-1, -1],\n",
       "        [-1, -1],\n",
       "        [-1, -1],\n",
       "        [-1, -1],\n",
       "        [-1, -1],\n",
       "        [-1, -1],\n",
       "        [-1, -1],\n",
       "        [-1, -1],\n",
       "        [-1, -1],\n",
       "        [-1, -1],\n",
       "        [-1, -1],\n",
       "        [-1, -1]],\n",
       "\n",
       "       [[-1, -1],\n",
       "        [-1, -1],\n",
       "        [-1, -1],\n",
       "        [-1, -1],\n",
       "        [-1, -1],\n",
       "        [-1, -1],\n",
       "        [-1, -1],\n",
       "        [-1, -1],\n",
       "        [-1, -1],\n",
       "        [-1, -1],\n",
       "        [-1, -1],\n",
       "        [-1, -1],\n",
       "        [-1, -1],\n",
       "        [-1, -1],\n",
       "        [-1, -1],\n",
       "        [-1, -1]]], dtype=int16)"
      ]
     },
     "execution_count": 12,
     "metadata": {},
     "output_type": "execute_result"
    }
   ],
   "source": [
    "obs_player_0_units_position"
   ]
  },
  {
   "cell_type": "code",
   "execution_count": 13,
   "id": "b7e3dccc-ef38-48e1-9eaf-1f1ed6415d82",
   "metadata": {},
   "outputs": [
    {
     "data": {
      "text/plain": [
       "numpy.ndarray"
      ]
     },
     "execution_count": 13,
     "metadata": {},
     "output_type": "execute_result"
    }
   ],
   "source": [
    "obs_player_0_units_mask = obs_player_0['units_mask']\n",
    "type(obs_player_0_units_mask)"
   ]
  },
  {
   "cell_type": "code",
   "execution_count": 14,
   "id": "f63e772d-7567-4f59-8407-b563facd9e95",
   "metadata": {},
   "outputs": [
    {
     "data": {
      "text/plain": [
       "(2, 16)"
      ]
     },
     "execution_count": 14,
     "metadata": {},
     "output_type": "execute_result"
    }
   ],
   "source": [
    "obs_player_0_units_mask.shape"
   ]
  },
  {
   "cell_type": "code",
   "execution_count": 15,
   "id": "e52bb7cc-fe7e-4aeb-8989-897fb87ffbca",
   "metadata": {},
   "outputs": [
    {
     "data": {
      "text/plain": [
       "array([[False, False, False, False, False, False, False, False, False,\n",
       "        False, False, False, False, False, False, False],\n",
       "       [False, False, False, False, False, False, False, False, False,\n",
       "        False, False, False, False, False, False, False]])"
      ]
     },
     "execution_count": 15,
     "metadata": {},
     "output_type": "execute_result"
    }
   ],
   "source": [
    "obs_player_0_units_mask"
   ]
  },
  {
   "cell_type": "code",
   "execution_count": 16,
   "id": "d21d3d70-21ed-4e58-a4e2-0a84ddadce30",
   "metadata": {},
   "outputs": [
    {
     "data": {
      "text/plain": [
       "numpy.ndarray"
      ]
     },
     "execution_count": 16,
     "metadata": {},
     "output_type": "execute_result"
    }
   ],
   "source": [
    "obs_player_0_sensor_mask = obs_player_0['sensor_mask']\n",
    "type(obs_player_0_sensor_mask)"
   ]
  },
  {
   "cell_type": "code",
   "execution_count": 17,
   "id": "8b9d38b7-decd-4941-bd41-bda8adc50378",
   "metadata": {},
   "outputs": [
    {
     "data": {
      "text/plain": [
       "(24, 24)"
      ]
     },
     "execution_count": 17,
     "metadata": {},
     "output_type": "execute_result"
    }
   ],
   "source": [
    "obs_player_0_sensor_mask.shape"
   ]
  },
  {
   "cell_type": "code",
   "execution_count": 18,
   "id": "b13fc09e-8813-447c-b739-c09fe791dc08",
   "metadata": {
    "scrolled": true
   },
   "outputs": [
    {
     "data": {
      "text/plain": [
       "array([[False, False, False, False, False, False, False, False, False,\n",
       "        False, False, False, False, False, False, False, False, False,\n",
       "        False, False, False, False, False, False],\n",
       "       [False, False, False, False, False, False, False, False, False,\n",
       "        False, False, False, False, False, False, False, False, False,\n",
       "        False, False, False, False, False, False],\n",
       "       [False, False, False, False, False, False, False, False, False,\n",
       "        False, False, False, False, False, False, False, False, False,\n",
       "        False, False, False, False, False, False],\n",
       "       [False, False, False, False, False, False, False, False, False,\n",
       "        False, False, False, False, False, False, False, False, False,\n",
       "        False, False, False, False, False, False],\n",
       "       [False, False, False, False, False, False, False, False, False,\n",
       "        False, False, False, False, False, False, False, False, False,\n",
       "        False, False, False, False, False, False],\n",
       "       [False, False, False, False, False, False, False, False, False,\n",
       "        False, False, False, False, False, False, False, False, False,\n",
       "        False, False, False, False, False, False],\n",
       "       [False, False, False, False, False, False, False, False, False,\n",
       "        False, False, False, False, False, False, False, False, False,\n",
       "        False, False, False, False, False, False],\n",
       "       [False, False, False, False, False, False, False, False, False,\n",
       "        False, False, False, False, False, False, False, False, False,\n",
       "        False, False, False, False, False, False],\n",
       "       [False, False, False, False, False, False, False, False, False,\n",
       "        False, False, False, False, False, False, False, False, False,\n",
       "        False, False, False, False, False, False],\n",
       "       [False, False, False, False, False, False, False, False, False,\n",
       "        False, False, False, False, False, False, False, False, False,\n",
       "        False, False, False, False, False, False],\n",
       "       [False, False, False, False, False, False, False, False, False,\n",
       "        False, False, False, False, False, False, False, False, False,\n",
       "        False, False, False, False, False, False],\n",
       "       [False, False, False, False, False, False, False, False, False,\n",
       "        False, False, False, False, False, False, False, False, False,\n",
       "        False, False, False, False, False, False],\n",
       "       [False, False, False, False, False, False, False, False, False,\n",
       "        False, False, False, False, False, False, False, False, False,\n",
       "        False, False, False, False, False, False],\n",
       "       [False, False, False, False, False, False, False, False, False,\n",
       "        False, False, False, False, False, False, False, False, False,\n",
       "        False, False, False, False, False, False],\n",
       "       [False, False, False, False, False, False, False, False, False,\n",
       "        False, False, False, False, False, False, False, False, False,\n",
       "        False, False, False, False, False, False],\n",
       "       [False, False, False, False, False, False, False, False, False,\n",
       "        False, False, False, False, False, False, False, False, False,\n",
       "        False, False, False, False, False, False],\n",
       "       [False, False, False, False, False, False, False, False, False,\n",
       "        False, False, False, False, False, False, False, False, False,\n",
       "        False, False, False, False, False, False],\n",
       "       [False, False, False, False, False, False, False, False, False,\n",
       "        False, False, False, False, False, False, False, False, False,\n",
       "        False, False, False, False, False, False],\n",
       "       [False, False, False, False, False, False, False, False, False,\n",
       "        False, False, False, False, False, False, False, False, False,\n",
       "        False, False, False, False, False, False],\n",
       "       [False, False, False, False, False, False, False, False, False,\n",
       "        False, False, False, False, False, False, False, False, False,\n",
       "        False, False, False, False, False, False],\n",
       "       [False, False, False, False, False, False, False, False, False,\n",
       "        False, False, False, False, False, False, False, False, False,\n",
       "        False, False, False, False, False, False],\n",
       "       [False, False, False, False, False, False, False, False, False,\n",
       "        False, False, False, False, False, False, False, False, False,\n",
       "        False, False, False, False, False, False],\n",
       "       [False, False, False, False, False, False, False, False, False,\n",
       "        False, False, False, False, False, False, False, False, False,\n",
       "        False, False, False, False, False, False],\n",
       "       [False, False, False, False, False, False, False, False, False,\n",
       "        False, False, False, False, False, False, False, False, False,\n",
       "        False, False, False, False, False, False]])"
      ]
     },
     "execution_count": 18,
     "metadata": {},
     "output_type": "execute_result"
    }
   ],
   "source": [
    "obs_player_0_sensor_mask"
   ]
  },
  {
   "cell_type": "code",
   "execution_count": 19,
   "id": "6b7a1dce-d4d5-429a-be86-dc678a569949",
   "metadata": {},
   "outputs": [
    {
     "data": {
      "text/plain": [
       "dict"
      ]
     },
     "execution_count": 19,
     "metadata": {},
     "output_type": "execute_result"
    }
   ],
   "source": [
    "obs_player_0_map_features = obs_player_0['map_features']\n",
    "type(obs_player_0_map_features)"
   ]
  },
  {
   "cell_type": "code",
   "execution_count": 20,
   "id": "54b3851f-0e0f-4b0c-a9c7-e4e04ce89dba",
   "metadata": {},
   "outputs": [
    {
     "data": {
      "text/plain": [
       "dict_keys(['energy', 'tile_type'])"
      ]
     },
     "execution_count": 20,
     "metadata": {},
     "output_type": "execute_result"
    }
   ],
   "source": [
    "obs_player_0_map_features.keys()"
   ]
  },
  {
   "cell_type": "code",
   "execution_count": 21,
   "id": "5465b0f1-b51d-4b65-8680-0c328c210874",
   "metadata": {},
   "outputs": [
    {
     "data": {
      "text/plain": [
       "numpy.ndarray"
      ]
     },
     "execution_count": 21,
     "metadata": {},
     "output_type": "execute_result"
    }
   ],
   "source": [
    "obs_player_0_map_features_energy = obs_player_0_map_features['energy']\n",
    "type(obs_player_0_map_features_energy)"
   ]
  },
  {
   "cell_type": "code",
   "execution_count": 22,
   "id": "94dc6acc-e747-472f-9b39-00132cedf80d",
   "metadata": {},
   "outputs": [
    {
     "data": {
      "text/plain": [
       "(24, 24)"
      ]
     },
     "execution_count": 22,
     "metadata": {},
     "output_type": "execute_result"
    }
   ],
   "source": [
    "obs_player_0_map_features_energy.shape"
   ]
  },
  {
   "cell_type": "code",
   "execution_count": 23,
   "id": "3bf318e9-c848-44ca-b82c-08427e508b2b",
   "metadata": {},
   "outputs": [
    {
     "data": {
      "text/plain": [
       "array([[-1, -1, -1, -1, -1, -1, -1, -1, -1, -1, -1, -1, -1, -1, -1, -1,\n",
       "        -1, -1, -1, -1, -1, -1, -1, -1],\n",
       "       [-1, -1, -1, -1, -1, -1, -1, -1, -1, -1, -1, -1, -1, -1, -1, -1,\n",
       "        -1, -1, -1, -1, -1, -1, -1, -1],\n",
       "       [-1, -1, -1, -1, -1, -1, -1, -1, -1, -1, -1, -1, -1, -1, -1, -1,\n",
       "        -1, -1, -1, -1, -1, -1, -1, -1],\n",
       "       [-1, -1, -1, -1, -1, -1, -1, -1, -1, -1, -1, -1, -1, -1, -1, -1,\n",
       "        -1, -1, -1, -1, -1, -1, -1, -1],\n",
       "       [-1, -1, -1, -1, -1, -1, -1, -1, -1, -1, -1, -1, -1, -1, -1, -1,\n",
       "        -1, -1, -1, -1, -1, -1, -1, -1],\n",
       "       [-1, -1, -1, -1, -1, -1, -1, -1, -1, -1, -1, -1, -1, -1, -1, -1,\n",
       "        -1, -1, -1, -1, -1, -1, -1, -1],\n",
       "       [-1, -1, -1, -1, -1, -1, -1, -1, -1, -1, -1, -1, -1, -1, -1, -1,\n",
       "        -1, -1, -1, -1, -1, -1, -1, -1],\n",
       "       [-1, -1, -1, -1, -1, -1, -1, -1, -1, -1, -1, -1, -1, -1, -1, -1,\n",
       "        -1, -1, -1, -1, -1, -1, -1, -1],\n",
       "       [-1, -1, -1, -1, -1, -1, -1, -1, -1, -1, -1, -1, -1, -1, -1, -1,\n",
       "        -1, -1, -1, -1, -1, -1, -1, -1],\n",
       "       [-1, -1, -1, -1, -1, -1, -1, -1, -1, -1, -1, -1, -1, -1, -1, -1,\n",
       "        -1, -1, -1, -1, -1, -1, -1, -1],\n",
       "       [-1, -1, -1, -1, -1, -1, -1, -1, -1, -1, -1, -1, -1, -1, -1, -1,\n",
       "        -1, -1, -1, -1, -1, -1, -1, -1],\n",
       "       [-1, -1, -1, -1, -1, -1, -1, -1, -1, -1, -1, -1, -1, -1, -1, -1,\n",
       "        -1, -1, -1, -1, -1, -1, -1, -1],\n",
       "       [-1, -1, -1, -1, -1, -1, -1, -1, -1, -1, -1, -1, -1, -1, -1, -1,\n",
       "        -1, -1, -1, -1, -1, -1, -1, -1],\n",
       "       [-1, -1, -1, -1, -1, -1, -1, -1, -1, -1, -1, -1, -1, -1, -1, -1,\n",
       "        -1, -1, -1, -1, -1, -1, -1, -1],\n",
       "       [-1, -1, -1, -1, -1, -1, -1, -1, -1, -1, -1, -1, -1, -1, -1, -1,\n",
       "        -1, -1, -1, -1, -1, -1, -1, -1],\n",
       "       [-1, -1, -1, -1, -1, -1, -1, -1, -1, -1, -1, -1, -1, -1, -1, -1,\n",
       "        -1, -1, -1, -1, -1, -1, -1, -1],\n",
       "       [-1, -1, -1, -1, -1, -1, -1, -1, -1, -1, -1, -1, -1, -1, -1, -1,\n",
       "        -1, -1, -1, -1, -1, -1, -1, -1],\n",
       "       [-1, -1, -1, -1, -1, -1, -1, -1, -1, -1, -1, -1, -1, -1, -1, -1,\n",
       "        -1, -1, -1, -1, -1, -1, -1, -1],\n",
       "       [-1, -1, -1, -1, -1, -1, -1, -1, -1, -1, -1, -1, -1, -1, -1, -1,\n",
       "        -1, -1, -1, -1, -1, -1, -1, -1],\n",
       "       [-1, -1, -1, -1, -1, -1, -1, -1, -1, -1, -1, -1, -1, -1, -1, -1,\n",
       "        -1, -1, -1, -1, -1, -1, -1, -1],\n",
       "       [-1, -1, -1, -1, -1, -1, -1, -1, -1, -1, -1, -1, -1, -1, -1, -1,\n",
       "        -1, -1, -1, -1, -1, -1, -1, -1],\n",
       "       [-1, -1, -1, -1, -1, -1, -1, -1, -1, -1, -1, -1, -1, -1, -1, -1,\n",
       "        -1, -1, -1, -1, -1, -1, -1, -1],\n",
       "       [-1, -1, -1, -1, -1, -1, -1, -1, -1, -1, -1, -1, -1, -1, -1, -1,\n",
       "        -1, -1, -1, -1, -1, -1, -1, -1],\n",
       "       [-1, -1, -1, -1, -1, -1, -1, -1, -1, -1, -1, -1, -1, -1, -1, -1,\n",
       "        -1, -1, -1, -1, -1, -1, -1, -1]], dtype=int16)"
      ]
     },
     "execution_count": 23,
     "metadata": {},
     "output_type": "execute_result"
    }
   ],
   "source": [
    "obs_player_0_map_features_energy"
   ]
  },
  {
   "cell_type": "code",
   "execution_count": 24,
   "id": "f8dbe802-e92d-4448-ba98-5f301b006bb5",
   "metadata": {},
   "outputs": [
    {
     "data": {
      "text/plain": [
       "numpy.ndarray"
      ]
     },
     "execution_count": 24,
     "metadata": {},
     "output_type": "execute_result"
    }
   ],
   "source": [
    "obs_player_0_map_features_tile_type = obs_player_0_map_features['tile_type']\n",
    "type(obs_player_0_map_features_tile_type)"
   ]
  },
  {
   "cell_type": "code",
   "execution_count": 25,
   "id": "05c14515-d751-4ab4-9ed2-40ee7118f3ee",
   "metadata": {},
   "outputs": [
    {
     "data": {
      "text/plain": [
       "(24, 24)"
      ]
     },
     "execution_count": 25,
     "metadata": {},
     "output_type": "execute_result"
    }
   ],
   "source": [
    "obs_player_0_map_features_tile_type.shape"
   ]
  },
  {
   "cell_type": "code",
   "execution_count": 26,
   "id": "2886087c-c35a-42a8-8c84-02ea6f1217d1",
   "metadata": {},
   "outputs": [
    {
     "data": {
      "text/plain": [
       "array([[-1, -1, -1, -1, -1, -1, -1, -1, -1, -1, -1, -1, -1, -1, -1, -1,\n",
       "        -1, -1, -1, -1, -1, -1, -1, -1],\n",
       "       [-1, -1, -1, -1, -1, -1, -1, -1, -1, -1, -1, -1, -1, -1, -1, -1,\n",
       "        -1, -1, -1, -1, -1, -1, -1, -1],\n",
       "       [-1, -1, -1, -1, -1, -1, -1, -1, -1, -1, -1, -1, -1, -1, -1, -1,\n",
       "        -1, -1, -1, -1, -1, -1, -1, -1],\n",
       "       [-1, -1, -1, -1, -1, -1, -1, -1, -1, -1, -1, -1, -1, -1, -1, -1,\n",
       "        -1, -1, -1, -1, -1, -1, -1, -1],\n",
       "       [-1, -1, -1, -1, -1, -1, -1, -1, -1, -1, -1, -1, -1, -1, -1, -1,\n",
       "        -1, -1, -1, -1, -1, -1, -1, -1],\n",
       "       [-1, -1, -1, -1, -1, -1, -1, -1, -1, -1, -1, -1, -1, -1, -1, -1,\n",
       "        -1, -1, -1, -1, -1, -1, -1, -1],\n",
       "       [-1, -1, -1, -1, -1, -1, -1, -1, -1, -1, -1, -1, -1, -1, -1, -1,\n",
       "        -1, -1, -1, -1, -1, -1, -1, -1],\n",
       "       [-1, -1, -1, -1, -1, -1, -1, -1, -1, -1, -1, -1, -1, -1, -1, -1,\n",
       "        -1, -1, -1, -1, -1, -1, -1, -1],\n",
       "       [-1, -1, -1, -1, -1, -1, -1, -1, -1, -1, -1, -1, -1, -1, -1, -1,\n",
       "        -1, -1, -1, -1, -1, -1, -1, -1],\n",
       "       [-1, -1, -1, -1, -1, -1, -1, -1, -1, -1, -1, -1, -1, -1, -1, -1,\n",
       "        -1, -1, -1, -1, -1, -1, -1, -1],\n",
       "       [-1, -1, -1, -1, -1, -1, -1, -1, -1, -1, -1, -1, -1, -1, -1, -1,\n",
       "        -1, -1, -1, -1, -1, -1, -1, -1],\n",
       "       [-1, -1, -1, -1, -1, -1, -1, -1, -1, -1, -1, -1, -1, -1, -1, -1,\n",
       "        -1, -1, -1, -1, -1, -1, -1, -1],\n",
       "       [-1, -1, -1, -1, -1, -1, -1, -1, -1, -1, -1, -1, -1, -1, -1, -1,\n",
       "        -1, -1, -1, -1, -1, -1, -1, -1],\n",
       "       [-1, -1, -1, -1, -1, -1, -1, -1, -1, -1, -1, -1, -1, -1, -1, -1,\n",
       "        -1, -1, -1, -1, -1, -1, -1, -1],\n",
       "       [-1, -1, -1, -1, -1, -1, -1, -1, -1, -1, -1, -1, -1, -1, -1, -1,\n",
       "        -1, -1, -1, -1, -1, -1, -1, -1],\n",
       "       [-1, -1, -1, -1, -1, -1, -1, -1, -1, -1, -1, -1, -1, -1, -1, -1,\n",
       "        -1, -1, -1, -1, -1, -1, -1, -1],\n",
       "       [-1, -1, -1, -1, -1, -1, -1, -1, -1, -1, -1, -1, -1, -1, -1, -1,\n",
       "        -1, -1, -1, -1, -1, -1, -1, -1],\n",
       "       [-1, -1, -1, -1, -1, -1, -1, -1, -1, -1, -1, -1, -1, -1, -1, -1,\n",
       "        -1, -1, -1, -1, -1, -1, -1, -1],\n",
       "       [-1, -1, -1, -1, -1, -1, -1, -1, -1, -1, -1, -1, -1, -1, -1, -1,\n",
       "        -1, -1, -1, -1, -1, -1, -1, -1],\n",
       "       [-1, -1, -1, -1, -1, -1, -1, -1, -1, -1, -1, -1, -1, -1, -1, -1,\n",
       "        -1, -1, -1, -1, -1, -1, -1, -1],\n",
       "       [-1, -1, -1, -1, -1, -1, -1, -1, -1, -1, -1, -1, -1, -1, -1, -1,\n",
       "        -1, -1, -1, -1, -1, -1, -1, -1],\n",
       "       [-1, -1, -1, -1, -1, -1, -1, -1, -1, -1, -1, -1, -1, -1, -1, -1,\n",
       "        -1, -1, -1, -1, -1, -1, -1, -1],\n",
       "       [-1, -1, -1, -1, -1, -1, -1, -1, -1, -1, -1, -1, -1, -1, -1, -1,\n",
       "        -1, -1, -1, -1, -1, -1, -1, -1],\n",
       "       [-1, -1, -1, -1, -1, -1, -1, -1, -1, -1, -1, -1, -1, -1, -1, -1,\n",
       "        -1, -1, -1, -1, -1, -1, -1, -1]], dtype=int32)"
      ]
     },
     "execution_count": 26,
     "metadata": {},
     "output_type": "execute_result"
    }
   ],
   "source": [
    "obs_player_0_map_features_tile_type"
   ]
  },
  {
   "cell_type": "code",
   "execution_count": 27,
   "id": "510d622c-7b04-441c-b8cb-44b636d9285e",
   "metadata": {},
   "outputs": [
    {
     "data": {
      "text/plain": [
       "numpy.ndarray"
      ]
     },
     "execution_count": 27,
     "metadata": {},
     "output_type": "execute_result"
    }
   ],
   "source": [
    "obs_player_0_relic_nodes = obs_player_0['relic_nodes']\n",
    "type(obs_player_0_relic_nodes)"
   ]
  },
  {
   "cell_type": "code",
   "execution_count": 28,
   "id": "1d08eb20-07c3-417d-816f-c0f2baba3f21",
   "metadata": {},
   "outputs": [
    {
     "data": {
      "text/plain": [
       "(6, 2)"
      ]
     },
     "execution_count": 28,
     "metadata": {},
     "output_type": "execute_result"
    }
   ],
   "source": [
    "obs_player_0_relic_nodes.shape"
   ]
  },
  {
   "cell_type": "code",
   "execution_count": 29,
   "id": "4741671d-fd7a-4c99-8354-f490e1591b7e",
   "metadata": {},
   "outputs": [
    {
     "data": {
      "text/plain": [
       "array([[-1, -1],\n",
       "       [-1, -1],\n",
       "       [-1, -1],\n",
       "       [-1, -1],\n",
       "       [-1, -1],\n",
       "       [-1, -1]], dtype=int16)"
      ]
     },
     "execution_count": 29,
     "metadata": {},
     "output_type": "execute_result"
    }
   ],
   "source": [
    "obs_player_0_relic_nodes"
   ]
  },
  {
   "cell_type": "code",
   "execution_count": 30,
   "id": "5684d756-ccb4-4be4-9334-8e0fad787f2c",
   "metadata": {},
   "outputs": [
    {
     "data": {
      "text/plain": [
       "numpy.ndarray"
      ]
     },
     "execution_count": 30,
     "metadata": {},
     "output_type": "execute_result"
    }
   ],
   "source": [
    "obs_player_0_relic_nodes_mask = obs_player_0['relic_nodes_mask']\n",
    "type(obs_player_0_relic_nodes_mask)"
   ]
  },
  {
   "cell_type": "code",
   "execution_count": 31,
   "id": "ef5138b9-e9ba-4031-80f9-f5ef28cb7567",
   "metadata": {},
   "outputs": [
    {
     "data": {
      "text/plain": [
       "(6,)"
      ]
     },
     "execution_count": 31,
     "metadata": {},
     "output_type": "execute_result"
    }
   ],
   "source": [
    "obs_player_0_relic_nodes_mask.shape"
   ]
  },
  {
   "cell_type": "code",
   "execution_count": 32,
   "id": "08025b7b-26da-4880-bbf6-dea1a4530f98",
   "metadata": {},
   "outputs": [
    {
     "data": {
      "text/plain": [
       "array([False, False, False, False, False, False])"
      ]
     },
     "execution_count": 32,
     "metadata": {},
     "output_type": "execute_result"
    }
   ],
   "source": [
    "obs_player_0_relic_nodes_mask"
   ]
  },
  {
   "cell_type": "code",
   "execution_count": 33,
   "id": "8fa4aaed-9e94-473b-b835-53a51f33bbe3",
   "metadata": {},
   "outputs": [
    {
     "data": {
      "text/plain": [
       "numpy.ndarray"
      ]
     },
     "execution_count": 33,
     "metadata": {},
     "output_type": "execute_result"
    }
   ],
   "source": [
    "obs_player_0_steps = obs_player_0['steps']\n",
    "type(obs_player_0_steps)"
   ]
  },
  {
   "cell_type": "code",
   "execution_count": 34,
   "id": "6b8fdc98-a723-4199-8a8b-d885ded7660d",
   "metadata": {},
   "outputs": [
    {
     "data": {
      "text/plain": [
       "()"
      ]
     },
     "execution_count": 34,
     "metadata": {},
     "output_type": "execute_result"
    }
   ],
   "source": [
    "obs_player_0_steps.shape"
   ]
  },
  {
   "cell_type": "code",
   "execution_count": 35,
   "id": "371b20b2-572f-4bfb-9b97-b99c5a3e9fa2",
   "metadata": {},
   "outputs": [
    {
     "data": {
      "text/plain": [
       "array(0, dtype=int32)"
      ]
     },
     "execution_count": 35,
     "metadata": {},
     "output_type": "execute_result"
    }
   ],
   "source": [
    "obs_player_0_steps"
   ]
  },
  {
   "cell_type": "code",
   "execution_count": 36,
   "id": "78164cbc-b4a4-4047-80c1-38d3252e4059",
   "metadata": {},
   "outputs": [
    {
     "data": {
      "text/plain": [
       "numpy.ndarray"
      ]
     },
     "execution_count": 36,
     "metadata": {},
     "output_type": "execute_result"
    }
   ],
   "source": [
    "obs_player_0_match_steps = obs_player_0['match_steps']\n",
    "type(obs_player_0_match_steps)"
   ]
  },
  {
   "cell_type": "code",
   "execution_count": 37,
   "id": "6a499f9e-2f63-4095-a33e-7d4362eb6236",
   "metadata": {},
   "outputs": [
    {
     "data": {
      "text/plain": [
       "()"
      ]
     },
     "execution_count": 37,
     "metadata": {},
     "output_type": "execute_result"
    }
   ],
   "source": [
    "obs_player_0_match_steps.shape"
   ]
  },
  {
   "cell_type": "code",
   "execution_count": 38,
   "id": "5d29dff7-d5d8-43ed-ab21-6dd7954e5298",
   "metadata": {},
   "outputs": [
    {
     "data": {
      "text/plain": [
       "array(0, dtype=int32)"
      ]
     },
     "execution_count": 38,
     "metadata": {},
     "output_type": "execute_result"
    }
   ],
   "source": [
    "obs_player_0_match_steps"
   ]
  },
  {
   "cell_type": "markdown",
   "id": "ecce6ab4-cf90-4859-b57c-28b46452fcef",
   "metadata": {},
   "source": [
    "# info"
   ]
  },
  {
   "cell_type": "code",
   "execution_count": 39,
   "id": "00012831-1313-4e23-b94b-e3ca7a61a64c",
   "metadata": {},
   "outputs": [
    {
     "data": {
      "text/plain": [
       "dict"
      ]
     },
     "execution_count": 39,
     "metadata": {},
     "output_type": "execute_result"
    }
   ],
   "source": [
    "type(info)"
   ]
  },
  {
   "cell_type": "code",
   "execution_count": 40,
   "id": "3a81a55b-eea9-4168-9961-f722414abaaa",
   "metadata": {},
   "outputs": [
    {
     "data": {
      "text/plain": [
       "dict_keys(['params', 'full_params', 'state'])"
      ]
     },
     "execution_count": 40,
     "metadata": {},
     "output_type": "execute_result"
    }
   ],
   "source": [
    "info.keys()"
   ]
  },
  {
   "cell_type": "code",
   "execution_count": 41,
   "id": "a22936ff-2920-48a3-a3d5-3bc1640bf6fd",
   "metadata": {},
   "outputs": [
    {
     "data": {
      "text/plain": [
       "dict"
      ]
     },
     "execution_count": 41,
     "metadata": {},
     "output_type": "execute_result"
    }
   ],
   "source": [
    "info_params = info['params']\n",
    "type(info_params)"
   ]
  },
  {
   "cell_type": "code",
   "execution_count": 42,
   "id": "057825f4-b75c-4691-8b51-eef48f7fb371",
   "metadata": {},
   "outputs": [
    {
     "data": {
      "text/plain": [
       "dict_keys(['max_units', 'match_count_per_episode', 'max_steps_in_match', 'map_height', 'map_width', 'num_teams', 'unit_move_cost', 'unit_sap_cost', 'unit_sap_range', 'unit_sensor_range'])"
      ]
     },
     "execution_count": 42,
     "metadata": {},
     "output_type": "execute_result"
    }
   ],
   "source": [
    "info_params.keys()"
   ]
  },
  {
   "cell_type": "code",
   "execution_count": 43,
   "id": "6cb8b034-d38a-49bc-b002-383e01706e66",
   "metadata": {},
   "outputs": [
    {
     "data": {
      "text/plain": [
       "int"
      ]
     },
     "execution_count": 43,
     "metadata": {},
     "output_type": "execute_result"
    }
   ],
   "source": [
    "info_params_max_units = info_params['max_units']\n",
    "type(info_params_max_units)"
   ]
  },
  {
   "cell_type": "code",
   "execution_count": 44,
   "id": "7bd0a386-6213-4690-a6c7-89a0e61fd798",
   "metadata": {},
   "outputs": [
    {
     "data": {
      "text/plain": [
       "16"
      ]
     },
     "execution_count": 44,
     "metadata": {},
     "output_type": "execute_result"
    }
   ],
   "source": [
    "info_params_max_units"
   ]
  },
  {
   "cell_type": "code",
   "execution_count": 45,
   "id": "beb5be51-27ae-40d3-9009-5e69bda06bfa",
   "metadata": {},
   "outputs": [
    {
     "data": {
      "text/plain": [
       "int"
      ]
     },
     "execution_count": 45,
     "metadata": {},
     "output_type": "execute_result"
    }
   ],
   "source": [
    "info_params_match_count_per_episode = info_params['match_count_per_episode']\n",
    "type(info_params_match_count_per_episode)"
   ]
  },
  {
   "cell_type": "code",
   "execution_count": 46,
   "id": "8f75c984-a1a0-43a1-86fe-f97f536dc41c",
   "metadata": {},
   "outputs": [
    {
     "data": {
      "text/plain": [
       "5"
      ]
     },
     "execution_count": 46,
     "metadata": {},
     "output_type": "execute_result"
    }
   ],
   "source": [
    "info_params_match_count_per_episode"
   ]
  },
  {
   "cell_type": "code",
   "execution_count": 47,
   "id": "3210ddea-c077-4d94-878c-94f02eca7edb",
   "metadata": {},
   "outputs": [
    {
     "data": {
      "text/plain": [
       "int"
      ]
     },
     "execution_count": 47,
     "metadata": {},
     "output_type": "execute_result"
    }
   ],
   "source": [
    "info_params_max_steps_in_match = info_params['max_steps_in_match']\n",
    "type(info_params_max_steps_in_match)"
   ]
  },
  {
   "cell_type": "code",
   "execution_count": 48,
   "id": "dcd1df4d-3640-4f97-8e13-59ea06275531",
   "metadata": {},
   "outputs": [
    {
     "data": {
      "text/plain": [
       "100"
      ]
     },
     "execution_count": 48,
     "metadata": {},
     "output_type": "execute_result"
    }
   ],
   "source": [
    "info_params_max_steps_in_match"
   ]
  },
  {
   "cell_type": "code",
   "execution_count": 49,
   "id": "bfb13302-6b74-4e87-abbf-a7688e9f11d1",
   "metadata": {},
   "outputs": [
    {
     "data": {
      "text/plain": [
       "int"
      ]
     },
     "execution_count": 49,
     "metadata": {},
     "output_type": "execute_result"
    }
   ],
   "source": [
    "info_params_map_height = info_params['map_height']\n",
    "type(info_params_map_height)"
   ]
  },
  {
   "cell_type": "code",
   "execution_count": 50,
   "id": "9ae94521-f139-4b51-81bf-fe962b71eb69",
   "metadata": {},
   "outputs": [
    {
     "data": {
      "text/plain": [
       "24"
      ]
     },
     "execution_count": 50,
     "metadata": {},
     "output_type": "execute_result"
    }
   ],
   "source": [
    "info_params_map_height"
   ]
  },
  {
   "cell_type": "code",
   "execution_count": 51,
   "id": "fbcaa26d-77f7-40b1-832b-45d242d22866",
   "metadata": {},
   "outputs": [
    {
     "data": {
      "text/plain": [
       "int"
      ]
     },
     "execution_count": 51,
     "metadata": {},
     "output_type": "execute_result"
    }
   ],
   "source": [
    "info_params_map_width = info_params['map_width']\n",
    "type(info_params_map_width)"
   ]
  },
  {
   "cell_type": "code",
   "execution_count": 52,
   "id": "c8e51e6c-bc11-4bcd-aa90-1fb111fa2fb9",
   "metadata": {},
   "outputs": [
    {
     "data": {
      "text/plain": [
       "24"
      ]
     },
     "execution_count": 52,
     "metadata": {},
     "output_type": "execute_result"
    }
   ],
   "source": [
    "info_params_map_width"
   ]
  },
  {
   "cell_type": "code",
   "execution_count": 53,
   "id": "384f74c9-0d5f-4e30-9e6a-ac4293b776fb",
   "metadata": {},
   "outputs": [
    {
     "data": {
      "text/plain": [
       "int"
      ]
     },
     "execution_count": 53,
     "metadata": {},
     "output_type": "execute_result"
    }
   ],
   "source": [
    "info_params_num_teams = info_params['num_teams']\n",
    "type(info_params_num_teams)"
   ]
  },
  {
   "cell_type": "code",
   "execution_count": 54,
   "id": "16c5c1e0-9a05-40eb-8b61-fc1ab2f254c8",
   "metadata": {},
   "outputs": [
    {
     "data": {
      "text/plain": [
       "2"
      ]
     },
     "execution_count": 54,
     "metadata": {},
     "output_type": "execute_result"
    }
   ],
   "source": [
    "info_params_num_teams"
   ]
  },
  {
   "cell_type": "code",
   "execution_count": 55,
   "id": "27a6fa5a-eb10-4b65-86b6-b308a85e2c23",
   "metadata": {},
   "outputs": [
    {
     "data": {
      "text/plain": [
       "int"
      ]
     },
     "execution_count": 55,
     "metadata": {},
     "output_type": "execute_result"
    }
   ],
   "source": [
    "info_params_unit_move_cost = info_params['unit_move_cost']\n",
    "type(info_params_unit_move_cost)"
   ]
  },
  {
   "cell_type": "code",
   "execution_count": 56,
   "id": "9c0ad0f1-07e2-432b-9d2a-491fe25a7bc9",
   "metadata": {},
   "outputs": [
    {
     "data": {
      "text/plain": [
       "4"
      ]
     },
     "execution_count": 56,
     "metadata": {},
     "output_type": "execute_result"
    }
   ],
   "source": [
    "info_params_unit_move_cost"
   ]
  },
  {
   "cell_type": "code",
   "execution_count": 57,
   "id": "fc0b6d65-5954-4b43-bddb-63436cc5e1de",
   "metadata": {},
   "outputs": [
    {
     "data": {
      "text/plain": [
       "int"
      ]
     },
     "execution_count": 57,
     "metadata": {},
     "output_type": "execute_result"
    }
   ],
   "source": [
    "info_params_unit_sap_cost = info_params['unit_sap_cost']\n",
    "type(info_params_unit_sap_cost)"
   ]
  },
  {
   "cell_type": "code",
   "execution_count": 58,
   "id": "94ed10f2-0719-4d90-a34f-686fb3e9860b",
   "metadata": {},
   "outputs": [
    {
     "data": {
      "text/plain": [
       "45"
      ]
     },
     "execution_count": 58,
     "metadata": {},
     "output_type": "execute_result"
    }
   ],
   "source": [
    "info_params_unit_sap_cost"
   ]
  },
  {
   "cell_type": "code",
   "execution_count": 59,
   "id": "ad10e79a-4f03-4811-8ee9-a35080a5dcc9",
   "metadata": {},
   "outputs": [
    {
     "data": {
      "text/plain": [
       "int"
      ]
     },
     "execution_count": 59,
     "metadata": {},
     "output_type": "execute_result"
    }
   ],
   "source": [
    "info_params_unit_sap_range = info_params['unit_sap_range']\n",
    "type(info_params_unit_sap_range)"
   ]
  },
  {
   "cell_type": "code",
   "execution_count": 61,
   "id": "1131a284-97b3-4a08-b3e9-84d08b9fb35c",
   "metadata": {},
   "outputs": [
    {
     "data": {
      "text/plain": [
       "3"
      ]
     },
     "execution_count": 61,
     "metadata": {},
     "output_type": "execute_result"
    }
   ],
   "source": [
    "info_params_unit_sap_range"
   ]
  },
  {
   "cell_type": "code",
   "execution_count": 62,
   "id": "59420499-0db3-45fa-b1ca-425eced9fbf0",
   "metadata": {},
   "outputs": [
    {
     "data": {
      "text/plain": [
       "int"
      ]
     },
     "execution_count": 62,
     "metadata": {},
     "output_type": "execute_result"
    }
   ],
   "source": [
    "info_params_unit_sensor_range = info_params['unit_sensor_range']\n",
    "type(info_params_unit_sensor_range)"
   ]
  },
  {
   "cell_type": "code",
   "execution_count": 63,
   "id": "008a3e5b-40ec-49a5-9e51-49c8042ee65f",
   "metadata": {},
   "outputs": [
    {
     "data": {
      "text/plain": [
       "2"
      ]
     },
     "execution_count": 63,
     "metadata": {},
     "output_type": "execute_result"
    }
   ],
   "source": [
    "info_params_unit_sensor_range"
   ]
  },
  {
   "cell_type": "code",
   "execution_count": 64,
   "id": "fa04e5a1-9ae6-40ce-b480-4071cf21dbd5",
   "metadata": {},
   "outputs": [
    {
     "data": {
      "text/plain": [
       "dict"
      ]
     },
     "execution_count": 64,
     "metadata": {},
     "output_type": "execute_result"
    }
   ],
   "source": [
    "info_full_params = info['full_params']\n",
    "type(info_full_params)"
   ]
  },
  {
   "cell_type": "code",
   "execution_count": 65,
   "id": "3b096236-b5a2-4d32-97c9-c7606978d089",
   "metadata": {},
   "outputs": [
    {
     "data": {
      "text/plain": [
       "dict_keys(['max_steps_in_match', 'map_type', 'map_width', 'map_height', 'num_teams', 'match_count_per_episode', 'max_units', 'init_unit_energy', 'min_unit_energy', 'max_unit_energy', 'unit_move_cost', 'spawn_rate', 'unit_sap_cost', 'unit_sap_range', 'unit_sap_dropoff_factor', 'unit_energy_void_factor', 'max_energy_nodes', 'max_energy_per_tile', 'min_energy_per_tile', 'max_relic_nodes', 'relic_config_size', 'fog_of_war', 'unit_sensor_range', 'nebula_tile_vision_reduction', 'nebula_tile_energy_reduction', 'nebula_tile_drift_speed', 'energy_node_drift_speed', 'energy_node_drift_magnitude'])"
      ]
     },
     "execution_count": 65,
     "metadata": {},
     "output_type": "execute_result"
    }
   ],
   "source": [
    "info_full_params.keys()"
   ]
  },
  {
   "cell_type": "code",
   "execution_count": 68,
   "id": "fdec5cbd-5344-42ba-981a-f6d9c7865010",
   "metadata": {},
   "outputs": [
    {
     "name": "stdout",
     "output_type": "stream",
     "text": [
      "max_steps_in_match\n",
      "<class 'int'>\n",
      "100\n",
      "map_type\n",
      "<class 'int'>\n",
      "1\n",
      "map_width\n",
      "<class 'int'>\n",
      "24\n",
      "map_height\n",
      "<class 'int'>\n",
      "24\n",
      "num_teams\n",
      "<class 'int'>\n",
      "2\n",
      "match_count_per_episode\n",
      "<class 'int'>\n",
      "5\n",
      "max_units\n",
      "<class 'int'>\n",
      "16\n",
      "init_unit_energy\n",
      "<class 'int'>\n",
      "100\n",
      "min_unit_energy\n",
      "<class 'int'>\n",
      "0\n",
      "max_unit_energy\n",
      "<class 'int'>\n",
      "400\n",
      "unit_move_cost\n",
      "<class 'int'>\n",
      "4\n",
      "spawn_rate\n",
      "<class 'int'>\n",
      "3\n",
      "unit_sap_cost\n",
      "<class 'int'>\n",
      "45\n",
      "unit_sap_range\n",
      "<class 'int'>\n",
      "3\n",
      "unit_sap_dropoff_factor\n",
      "<class 'float'>\n",
      "1.0\n",
      "unit_energy_void_factor\n",
      "<class 'float'>\n",
      "0.0625\n",
      "max_energy_nodes\n",
      "<class 'int'>\n",
      "6\n",
      "max_energy_per_tile\n",
      "<class 'int'>\n",
      "20\n",
      "min_energy_per_tile\n",
      "<class 'int'>\n",
      "-20\n",
      "max_relic_nodes\n",
      "<class 'int'>\n",
      "6\n",
      "relic_config_size\n",
      "<class 'int'>\n",
      "5\n",
      "fog_of_war\n",
      "<class 'bool'>\n",
      "True\n",
      "unit_sensor_range\n",
      "<class 'int'>\n",
      "2\n",
      "nebula_tile_vision_reduction\n",
      "<class 'int'>\n",
      "5\n",
      "nebula_tile_energy_reduction\n",
      "<class 'int'>\n",
      "5\n",
      "nebula_tile_drift_speed\n",
      "<class 'float'>\n",
      "0.10000000149011612\n",
      "energy_node_drift_speed\n",
      "<class 'float'>\n",
      "0.05000000074505806\n",
      "energy_node_drift_magnitude\n",
      "<class 'int'>\n",
      "4\n"
     ]
    }
   ],
   "source": [
    "for key in info_full_params.keys():\n",
    "    print(key)\n",
    "    print(type(info_full_params[key]))\n",
    "    print(info_full_params[key])    "
   ]
  },
  {
   "cell_type": "code",
   "execution_count": 69,
   "id": "8aeb2dec-927c-4660-9d86-3b1203ce647e",
   "metadata": {},
   "outputs": [
    {
     "data": {
      "text/plain": [
       "luxai_s3.state.EnvState"
      ]
     },
     "execution_count": 69,
     "metadata": {},
     "output_type": "execute_result"
    }
   ],
   "source": [
    "info_state = info['state']\n",
    "type(info_state)"
   ]
  },
  {
   "cell_type": "code",
   "execution_count": 70,
   "id": "767cedfc-3820-464c-9042-84dbb12d64a7",
   "metadata": {},
   "outputs": [
    {
     "data": {
      "text/plain": [
       "['__annotations__',\n",
       " '__class__',\n",
       " '__dataclass_fields__',\n",
       " '__dataclass_params__',\n",
       " '__delattr__',\n",
       " '__dict__',\n",
       " '__dir__',\n",
       " '__doc__',\n",
       " '__eq__',\n",
       " '__format__',\n",
       " '__ge__',\n",
       " '__getattribute__',\n",
       " '__getstate__',\n",
       " '__gt__',\n",
       " '__hash__',\n",
       " '__init__',\n",
       " '__init_subclass__',\n",
       " '__le__',\n",
       " '__lt__',\n",
       " '__match_args__',\n",
       " '__module__',\n",
       " '__ne__',\n",
       " '__new__',\n",
       " '__reduce__',\n",
       " '__reduce_ex__',\n",
       " '__repr__',\n",
       " '__setattr__',\n",
       " '__sizeof__',\n",
       " '__str__',\n",
       " '__subclasshook__',\n",
       " '__weakref__',\n",
       " '_flax_dataclass',\n",
       " 'energy_node_fns',\n",
       " 'energy_nodes',\n",
       " 'energy_nodes_mask',\n",
       " 'map_features',\n",
       " 'match_steps',\n",
       " 'relic_node_configs',\n",
       " 'relic_nodes',\n",
       " 'relic_nodes_map_weights',\n",
       " 'relic_nodes_mask',\n",
       " 'relic_spawn_schedule',\n",
       " 'replace',\n",
       " 'sensor_mask',\n",
       " 'steps',\n",
       " 'team_points',\n",
       " 'team_wins',\n",
       " 'units',\n",
       " 'units_mask',\n",
       " 'vision_power_map']"
      ]
     },
     "execution_count": 70,
     "metadata": {},
     "output_type": "execute_result"
    }
   ],
   "source": [
    "dir(info_state)"
   ]
  },
  {
   "cell_type": "code",
   "execution_count": 72,
   "id": "706c1849-046f-4879-89eb-0953a5f4eb97",
   "metadata": {
    "scrolled": true
   },
   "outputs": [
    {
     "data": {
      "text/plain": [
       "dict_keys(['units', 'units_mask', 'energy_nodes', 'energy_node_fns', 'energy_nodes_mask', 'relic_nodes', 'relic_node_configs', 'relic_nodes_mask', 'relic_nodes_map_weights', 'relic_spawn_schedule', 'map_features', 'sensor_mask', 'vision_power_map', 'team_points', 'team_wins', 'steps', 'match_steps'])"
      ]
     },
     "execution_count": 72,
     "metadata": {},
     "output_type": "execute_result"
    }
   ],
   "source": [
    "info_state.__dict__.keys()"
   ]
  },
  {
   "cell_type": "code",
   "execution_count": 82,
   "id": "e175e6b4-a535-43d5-8f5d-d2f06f24553f",
   "metadata": {},
   "outputs": [
    {
     "data": {
      "text/plain": [
       "(2, 16, 2)"
      ]
     },
     "execution_count": 82,
     "metadata": {},
     "output_type": "execute_result"
    }
   ],
   "source": [
    "info_state.units.position.shape"
   ]
  },
  {
   "cell_type": "code",
   "execution_count": null,
   "id": "f05c17f7-6796-40db-9a0e-00ef31a919ff",
   "metadata": {},
   "outputs": [],
   "source": []
  },
  {
   "cell_type": "code",
   "execution_count": null,
   "id": "795648fc-f175-4c5e-be28-03d5d582d4a7",
   "metadata": {},
   "outputs": [],
   "source": []
  },
  {
   "cell_type": "code",
   "execution_count": null,
   "id": "b1c1e300-b000-4d73-a1da-264970643e73",
   "metadata": {},
   "outputs": [],
   "source": []
  },
  {
   "cell_type": "code",
   "execution_count": null,
   "id": "b544f5ff-dc6c-4825-a15f-c8bf051ee08b",
   "metadata": {},
   "outputs": [],
   "source": []
  },
  {
   "cell_type": "code",
   "execution_count": null,
   "id": "067ede07-0c2a-468c-8265-99109927ebe8",
   "metadata": {},
   "outputs": [],
   "source": []
  },
  {
   "cell_type": "code",
   "execution_count": null,
   "id": "c4159bdd-1f20-4b41-96a5-326e07c5d4ee",
   "metadata": {},
   "outputs": [],
   "source": []
  },
  {
   "cell_type": "code",
   "execution_count": null,
   "id": "61db7211-46ce-4de9-9706-6b3c5b02c0d0",
   "metadata": {},
   "outputs": [],
   "source": []
  },
  {
   "cell_type": "code",
   "execution_count": null,
   "id": "b69bc392-f667-4995-bf53-1c1f5ecd10ca",
   "metadata": {},
   "outputs": [],
   "source": []
  },
  {
   "cell_type": "code",
   "execution_count": null,
   "id": "f358481c-7c9d-4edd-ad52-5cb20bdd6318",
   "metadata": {},
   "outputs": [],
   "source": [
    "env_cfg = info[\"params\"]"
   ]
  },
  {
   "cell_type": "code",
   "execution_count": null,
   "id": "c37e4b02-8423-44c3-8cd7-8a59332b9f15",
   "metadata": {},
   "outputs": [],
   "source": []
  },
  {
   "cell_type": "code",
   "execution_count": null,
   "id": "3d3d5c03-5a97-4a00-8dc0-d245f89da02a",
   "metadata": {},
   "outputs": [],
   "source": []
  },
  {
   "cell_type": "code",
   "execution_count": null,
   "id": "d2b82ffd-b291-45e6-9cb5-2091d3f49192",
   "metadata": {},
   "outputs": [],
   "source": []
  },
  {
   "cell_type": "code",
   "execution_count": null,
   "id": "88afdaed",
   "metadata": {
    "papermill": {
     "duration": 2.245903,
     "end_time": "2024-12-26T20:01:04.008828",
     "exception": false,
     "start_time": "2024-12-26T20:01:01.762925",
     "status": "completed"
    },
    "tags": []
   },
   "outputs": [],
   "source": [
    "import json\n",
    "from IPython.display import display, Javascript\n",
    "from luxai_s3.wrappers import LuxAIS3GymEnv, RecordEpisode\n",
    "\n",
    "def render_episode(episode: RecordEpisode) -> None:\n",
    "    data = json.dumps(episode.serialize_episode_data(), separators=(\",\", \":\"))\n",
    "    display(Javascript(f\"\"\"\n",
    "var iframe = document.createElement('iframe');\n",
    "iframe.src = 'https://s3vis.lux-ai.org/#/kaggle';\n",
    "iframe.width = '100%';\n",
    "iframe.scrolling = 'no';\n",
    "\n",
    "iframe.addEventListener('load', event => {{\n",
    "    event.target.contentWindow.postMessage({data}, 'https://s3vis.lux-ai.org');\n",
    "}});\n",
    "\n",
    "new ResizeObserver(entries => {{\n",
    "    for (const entry of entries) {{\n",
    "        entry.target.height = `${{Math.round(320 + 0.3 * entry.contentRect.width)}}px`;\n",
    "    }}\n",
    "}}).observe(iframe);\n",
    "\n",
    "element.append(iframe);\n",
    "    \"\"\"))\n",
    "\n",
    "def evaluate_agents(agent_1_cls, agent_2_cls, seed=42, games_to_play=1, replay_save_dir=\"replays\"):\n",
    "    env = RecordEpisode(\n",
    "        LuxAIS3GymEnv(numpy_output=True), save_on_close=True, save_on_reset=True, save_dir=replay_save_dir\n",
    "    )\n",
    "    obs, info = env.reset(seed=seed)\n",
    "    for i in range(games_to_play):\n",
    "        obs, info = env.reset()\n",
    "        env_cfg = info[\"params\"] # only contains observable game parameters\n",
    "        player_0 = agent_1_cls(\"player_0\", env_cfg)\n",
    "        player_1 = agent_2_cls(\"player_1\", env_cfg)\n",
    "    \n",
    "        # main game loop\n",
    "        game_done = False\n",
    "        step = 0\n",
    "        print(f\"Running game {i}\")\n",
    "        while not game_done:\n",
    "            actions = dict()\n",
    "            for agent in [player_0, player_1]:\n",
    "                actions[agent.player] = agent.act(step=step, obs=obs[agent.player])\n",
    "            obs, reward, terminated, truncated, info = env.step(actions)\n",
    "            # info[\"state\"] is the environment state object, you can inspect/play around with it to e.g. print\n",
    "            # unobservable game data that agents can't see\n",
    "            dones = {k: terminated[k] | truncated[k] for k in terminated}\n",
    "            if dones[\"player_0\"] or dones[\"player_1\"]:\n",
    "                game_done = True\n",
    "            step += 1\n",
    "        render_episode(env)\n",
    "    env.close() # free up resources and save final replay"
   ]
  },
  {
   "cell_type": "code",
   "execution_count": null,
   "id": "f6533a01",
   "metadata": {
    "papermill": {
     "duration": 23.819181,
     "end_time": "2024-12-26T20:01:27.908934",
     "exception": false,
     "start_time": "2024-12-26T20:01:04.089753",
     "status": "completed"
    },
    "tags": []
   },
   "outputs": [],
   "source": [
    "evaluate_agents(Agent, Agent) # here we evaluate our dummy agent against itself, it will auto render in the notebook\n",
    "!ls replays # see what replays we have"
   ]
  }
 ],
 "metadata": {
  "kaggle": {
   "accelerator": "none",
   "dataSources": [
    {
     "databundleVersionId": 10395677,
     "sourceId": 86411,
     "sourceType": "competition"
    }
   ],
   "isGpuEnabled": false,
   "isInternetEnabled": true,
   "language": "python",
   "sourceType": "notebook"
  },
  "kernelspec": {
   "display_name": "Python 3 (ipykernel)",
   "language": "python",
   "name": "python3"
  },
  "language_info": {
   "codemirror_mode": {
    "name": "ipython",
    "version": 3
   },
   "file_extension": ".py",
   "mimetype": "text/x-python",
   "name": "python",
   "nbconvert_exporter": "python",
   "pygments_lexer": "ipython3",
   "version": "3.12.8"
  },
  "papermill": {
   "default_parameters": {},
   "duration": 143.048125,
   "end_time": "2024-12-26T20:02:43.573801",
   "environment_variables": {},
   "exception": null,
   "input_path": "__notebook__.ipynb",
   "output_path": "__notebook__.ipynb",
   "parameters": {},
   "start_time": "2024-12-26T20:00:20.525676",
   "version": "2.6.0"
  }
 },
 "nbformat": 4,
 "nbformat_minor": 5
}
